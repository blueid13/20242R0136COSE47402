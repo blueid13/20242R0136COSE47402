{
  "nbformat": 4,
  "nbformat_minor": 0,
  "metadata": {
    "colab": {
      "provenance": [],
      "machine_shape": "hm",
      "gpuType": "A100"
    },
    "kernelspec": {
      "name": "python3",
      "display_name": "Python 3"
    },
    "language_info": {
      "name": "python"
    },
    "accelerator": "GPU"
  },
  "cells": [
    {
      "cell_type": "markdown",
      "source": [
        "## 매 시도마다 돌릴 것들"
      ],
      "metadata": {
        "id": "g7qZZJCL_NvK"
      }
    },
    {
      "cell_type": "code",
      "source": [
        "from google.colab import drive\n",
        "drive.mount('/content/drive')\n",
        "!pip install datasets --quiet\n",
        "\n",
        "import os\n",
        "import cv2\n",
        "import torch\n",
        "from torch.utils.data import Dataset, DataLoader\n",
        "from torchvision import transforms\n",
        "\n",
        "data_path = '/content/drive/MyDrive/Colab Notebooks/COSE474/MVSA/data/'  # 이미지 및 텍스트 파일 폴더\n",
        "\n",
        "from transformers import AutoTokenizer, AutoModelForSequenceClassification\n",
        "import pandas as pd\n",
        "from collections import Counter\n",
        "from tqdm import tqdm\n",
        "from collections import Counter\n",
        "import torch.nn.functional as F\n",
        "from sklearn.metrics import classification_report, confusion_matrix\n",
        "import seaborn as sns\n",
        "import matplotlib.pyplot as plt\n",
        "import numpy as np\n",
        "from transformers import TFAutoModelForSequenceClassification\n",
        "from transformers import AutoConfig\n",
        "from scipy.special import softmax\n",
        "import shutil\n",
        "from PIL import Image\n",
        "from transformers import BlipProcessor, BlipForConditionalGeneration"
      ],
      "metadata": {
        "colab": {
          "base_uri": "https://localhost:8080/"
        },
        "id": "pMkpM8rP_RdE",
        "outputId": "f5202dd3-f7b0-42ea-bd40-ca295c00d2bd"
      },
      "execution_count": 98,
      "outputs": [
        {
          "output_type": "stream",
          "name": "stdout",
          "text": [
            "Drive already mounted at /content/drive; to attempt to forcibly remount, call drive.mount(\"/content/drive\", force_remount=True).\n"
          ]
        }
      ]
    },
    {
      "cell_type": "markdown",
      "source": [
        "## 전처리"
      ],
      "metadata": {
        "id": "qz8G_fuW_v1N"
      }
    },
    {
      "cell_type": "code",
      "source": [
        "# 텍스트 데이터 로드\n",
        "texts_df = pd.read_csv('/content/drive/MyDrive/Colab Notebooks/COSE474/MVSA/texts.csv')\n",
        "label_txt = pd.read_csv('/content/drive/MyDrive/Colab Notebooks/COSE474/MVSA/label.txt', sep='\\t', header=0)\n",
        "label_txt.columns = ['ID', 'Annotator1', 'Annotator2', 'Annotator3']\n",
        "label_jpg = label_txt.copy()\n",
        "\n",
        "def pre_text(text):\n",
        "    new_text = []\n",
        "    for t in text.split(\" \"):\n",
        "        t = '@user' if t.startswith('@') and len(t) > 1 else t\n",
        "        t = 'http' if t.startswith('http') else t\n",
        "        new_text.append(t)\n",
        "    return \" \".join(new_text)\n",
        "\n",
        "texts_df['Text'] = texts_df['Text'].apply(pre_text)"
      ],
      "metadata": {
        "id": "A_k8XYMJifKc"
      },
      "execution_count": 31,
      "outputs": []
    },
    {
      "cell_type": "code",
      "source": [
        "dic = {'positive': 1, 'neutral':0, 'negative': -1}\n",
        "def pre_labeltext(text):\n",
        "    new_text = text.split(\",\")[0]\n",
        "    return dic[new_text]\n",
        "label_txt['Annotator1'] = label_txt['Annotator1'].apply(pre_labeltext)\n",
        "label_txt['Annotator2'] = label_txt['Annotator2'].apply(pre_labeltext)\n",
        "label_txt['Annotator3'] = label_txt['Annotator3'].apply(pre_labeltext)\n",
        "label_txt['label'] = label_txt['Annotator1'] + label_txt['Annotator2'] + label_txt['Annotator3']\n",
        "label_txt['label'] = label_txt['label']/3\n",
        "label_txt = label_txt.drop(['Annotator1', 'Annotator2', 'Annotator3'], axis=1)"
      ],
      "metadata": {
        "id": "JZqXgtrVAiYc"
      },
      "execution_count": 32,
      "outputs": []
    },
    {
      "cell_type": "code",
      "source": [
        "def pre_labeltext(text):\n",
        "    new_text = text.split(\",\")[1]\n",
        "    return dic[new_text]\n",
        "label_jpg['Annotator1'] = label_jpg['Annotator1'].apply(pre_labeltext)\n",
        "label_jpg['Annotator2'] = label_jpg['Annotator2'].apply(pre_labeltext)\n",
        "label_jpg['Annotator3'] = label_jpg['Annotator3'].apply(pre_labeltext)\n",
        "label_jpg['label'] = label_jpg['Annotator1'] + label_jpg['Annotator2'] + label_jpg['Annotator3']\n",
        "label_jpg['label'] = label_jpg['label']/3\n",
        "label_jpg = label_jpg.drop(['Annotator1', 'Annotator2', 'Annotator3'], axis=1)"
      ],
      "metadata": {
        "id": "IqwSsrVkApKb"
      },
      "execution_count": 33,
      "outputs": []
    },
    {
      "cell_type": "code",
      "source": [
        "# 라벨 데이터와 텍스트 데이터 병합\n",
        "merged_text = pd.merge(label_txt, texts_df, on='ID')"
      ],
      "metadata": {
        "id": "DretnLVMj9K-"
      },
      "execution_count": 35,
      "outputs": []
    },
    {
      "cell_type": "markdown",
      "source": [
        "## 데이터 라벨링-모델 일치율 확인(만족스럽다)"
      ],
      "metadata": {
        "id": "rdeeeqfcT90t"
      }
    },
    {
      "cell_type": "code",
      "source": [
        "def checksentiment(listtexts, listlabels):\n",
        "    MODEL = f\"cardiffnlp/twitter-roberta-base-sentiment-latest\"\n",
        "    device = torch.device('cuda' if torch.cuda.is_available() else 'cpu')\n",
        "    model = AutoModelForSequenceClassification.from_pretrained(MODEL)\n",
        "    model.to(device)\n",
        "    tokenizer = AutoTokenizer.from_pretrained(MODEL)\n",
        "    config = AutoConfig.from_pretrained(MODEL)\n",
        "    batch_size = 16\n",
        "    sentiment_scores = []\n",
        "\n",
        "    for i in tqdm(range(0, len(listtexts), batch_size)):\n",
        "        batch_texts = listtexts[i:i+batch_size]\n",
        "        encoded_input = tokenizer(batch_texts, padding=True, truncation=True, return_tensors='pt')\n",
        "        encoded_input.to(device)\n",
        "\n",
        "        with torch.no_grad():\n",
        "            outputs = model(**encoded_input)\n",
        "\n",
        "        logits = outputs.logits\n",
        "        probabilities = torch.nn.functional.softmax(logits, dim=-1)\n",
        "        scores = probabilities.cpu().numpy()\n",
        "\n",
        "        pos_probs = scores[:, 2]  # 긍정 확률\n",
        "        neg_probs = scores[:, 0]  # 부정 확률\n",
        "        sentiments = pos_probs - neg_probs  # 감성 점수\n",
        "        sentiment_scores.extend(sentiments)\n",
        "\n",
        "    listlabels = np.array(listlabels)\n",
        "    sentiment_scores = np.array(sentiment_scores)\n",
        "\n",
        "    # L2 Loss\n",
        "    l2_loss = np.mean((sentiment_scores - listlabels) ** 2)\n",
        "    print(f\"L2 Loss: {l2_loss}\")\n",
        "\n",
        "    return sentiment_scores"
      ],
      "metadata": {
        "id": "hIYkkKkX7KE1"
      },
      "execution_count": 90,
      "outputs": []
    },
    {
      "cell_type": "code",
      "source": [
        "checksentiment(merged_text['Text'].tolist(), merged_text['label'].tolist())\n",
        "count = 0\n",
        "for i in range (19600):\n",
        "    if sentiment_scores[i] * merged_text['label'].tolist()[i] < 0:\n",
        "        count+=1\n",
        "count"
      ],
      "metadata": {
        "id": "bxdBHP7A8BAB",
        "outputId": "de370789-4bd2-4e56-cd3e-11e22ede79bf",
        "colab": {
          "base_uri": "https://localhost:8080/"
        }
      },
      "execution_count": 91,
      "outputs": [
        {
          "output_type": "stream",
          "name": "stderr",
          "text": [
            "Some weights of the model checkpoint at cardiffnlp/twitter-roberta-base-sentiment-latest were not used when initializing RobertaForSequenceClassification: ['roberta.pooler.dense.bias', 'roberta.pooler.dense.weight']\n",
            "- This IS expected if you are initializing RobertaForSequenceClassification from the checkpoint of a model trained on another task or with another architecture (e.g. initializing a BertForSequenceClassification model from a BertForPreTraining model).\n",
            "- This IS NOT expected if you are initializing RobertaForSequenceClassification from the checkpoint of a model that you expect to be exactly identical (initializing a BertForSequenceClassification model from a BertForSequenceClassification model).\n",
            "  0%|          | 0/1225 [00:00<?, ?it/s]Asking to truncate to max_length but no maximum length is provided and the model has no predefined maximum length. Default to no truncation.\n",
            "100%|██████████| 1225/1225 [00:19<00:00, 61.65it/s]\n"
          ]
        },
        {
          "output_type": "stream",
          "name": "stdout",
          "text": [
            "L2 Loss: 0.22832325209626356\n"
          ]
        },
        {
          "output_type": "execute_result",
          "data": {
            "text/plain": [
              "1704"
            ]
          },
          "metadata": {},
          "execution_count": 91
        }
      ]
    },
    {
      "cell_type": "markdown",
      "source": [
        "## 이미지 설명-감성 분석 점수 확인(학습 전 저성능 확인)"
      ],
      "metadata": {
        "id": "rMZJzuuVUFOD"
      }
    },
    {
      "cell_type": "code",
      "source": [
        "#자기 전에 켜 둘 것\n",
        "source_dir = '/content/drive/MyDrive/Colab Notebooks/COSE474/MVSA/data'\n",
        "\n",
        "target_dir = '/content/data'\n",
        "\n",
        "# 대상 폴더가 없으면 생성\n",
        "if not os.path.exists(target_dir):\n",
        "    os.makedirs(target_dir)\n",
        "\n",
        "loader = label_txt['ID'].tolist()\n",
        "\n",
        "for filename in tqdm(loader):\n",
        "    filename_with_ext = f\"{filename}.jpg\"\n",
        "    src_file = os.path.join(source_dir, filename_with_ext)\n",
        "    dst_file = os.path.join(target_dir, filename_with_ext)\n",
        "\n",
        "    try:\n",
        "        shutil.copy2(src_file, dst_file)\n",
        "    except Exception as e:\n",
        "        print(f\"파일 복사 중 오류 발생: {filename_with_ext}, 오류: {e}\")"
      ],
      "metadata": {
        "colab": {
          "base_uri": "https://localhost:8080/"
        },
        "id": "HrWxnT8MfbA7",
        "outputId": "959eaddf-ccb9-4234-a1a7-3cec7ac4fbd6"
      },
      "execution_count": 89,
      "outputs": [
        {
          "output_type": "stream",
          "name": "stderr",
          "text": [
            "100%|██████████| 19600/19600 [1:57:19<00:00,  2.78it/s]\n"
          ]
        }
      ]
    },
    {
      "cell_type": "code",
      "source": [
        "scores = np.array(sentiment_scores)\n",
        "sim = label_jpg['label'] * label_txt['label'] > 0\n",
        "label_jpg['pred'] = scores\n",
        "input_df = label_jpg[sim]"
      ],
      "metadata": {
        "id": "Z5VMAsSNXP2h"
      },
      "execution_count": 76,
      "outputs": []
    },
    {
      "cell_type": "code",
      "source": [
        "image_dir = '/content/data'\n",
        "def jpg(num):\n",
        "    return f\"{num}.jpg\"\n",
        "image_ids = input_df['ID'].apply(jpg).tolist()\n",
        "actual_labels = input_df['pred'].tolist()\n",
        "processor = BlipProcessor.from_pretrained(\"Salesforce/blip-image-captioning-large\")\n",
        "model_blip = BlipForConditionalGeneration.from_pretrained(\"Salesforce/blip-image-captioning-large\")\n",
        "model_blip.to(device)"
      ],
      "metadata": {
        "id": "GcDaSHbVhSR5"
      },
      "execution_count": null,
      "outputs": []
    },
    {
      "cell_type": "code",
      "source": [
        "captions = []\n",
        "\n",
        "for image_id in tqdm(image_ids):\n",
        "\n",
        "    image_path = os.path.join(image_dir, image_id)\n",
        "\n",
        "    # 이미지 로드 및 전처리\n",
        "    try:\n",
        "        raw_image = Image.open(image_path).convert('RGB')\n",
        "    except Exception as e:\n",
        "        print(f\"이미지 로드 실패: {image_id}, 오류: {e}\")\n",
        "        captions.append(\"\")  # 빈 문자열 추가하여 인덱스 맞추기\n",
        "        continue\n",
        "\n",
        "    # 입력 데이터 생성\n",
        "    inputs = processor(images=raw_image, return_tensors=\"pt\").to(device)\n",
        "\n",
        "    # 캡션 생성\n",
        "    with torch.no_grad():\n",
        "        out = model_blip.generate(**inputs)\n",
        "\n",
        "    # 캡션 디코딩\n",
        "    caption = processor.decode(out[0], skip_special_tokens=True)\n",
        "    captions.append(caption)"
      ],
      "metadata": {
        "colab": {
          "base_uri": "https://localhost:8080/"
        },
        "id": "L_aYgG8WhdxF",
        "outputId": "fc972ee0-b479-4c5e-f226-5ba47695eb26"
      },
      "execution_count": null,
      "outputs": [
        {
          "output_type": "stream",
          "name": "stderr",
          "text": [
            "\r  0%|          | 0/12850 [00:00<?, ?it/s]/usr/local/lib/python3.10/dist-packages/transformers/generation/utils.py:1375: UserWarning: Using the model-agnostic default `max_length` (=20) to control the generation length. We recommend setting `max_new_tokens` to control the maximum length of the generation.\n",
            "  warnings.warn(\n",
            "  6%|▌         | 707/12850 [03:47<50:37,  4.00it/s]  "
          ]
        },
        {
          "output_type": "stream",
          "name": "stdout",
          "text": [
            "이미지 로드 실패: 3910.jpg, 오류: cannot identify image file '/content/data/3910.jpg'\n"
          ]
        },
        {
          "output_type": "stream",
          "name": "stderr",
          "text": [
            "  6%|▌         | 732/12850 [03:55<1:08:51,  2.93it/s]"
          ]
        }
      ]
    },
    {
      "cell_type": "code",
      "source": [
        "sentiment_scores = checksentiment(captions, actual_labels)\n",
        "count = 0\n",
        "for i in range (19600):\n",
        "    if sentiment_scores[i] * merged_text['label'].tolist()[i] < 0:\n",
        "        count+=1\n",
        "count"
      ],
      "metadata": {
        "id": "qtz7tvnRAqIu",
        "outputId": "645b030d-7346-4120-82a5-a51cae9e21b5",
        "colab": {
          "base_uri": "https://localhost:8080/",
          "height": 424
        }
      },
      "execution_count": 96,
      "outputs": [
        {
          "output_type": "execute_result",
          "data": {
            "text/plain": [
              "          ID     label      pred\n",
              "0       2499  0.666667  0.153497\n",
              "1       2500  0.666667  0.096899\n",
              "3       2502  1.000000  0.200500\n",
              "5       2504  0.333333  0.875041\n",
              "6       2505  0.333333  0.971453\n",
              "...      ...       ...       ...\n",
              "19593  22885  1.000000  0.166340\n",
              "19594  22886  0.333333 -0.049349\n",
              "19596  22888  0.333333  0.024390\n",
              "19597  22889  0.666667  0.069241\n",
              "19599  22891  0.666667  0.143240\n",
              "\n",
              "[12850 rows x 3 columns]"
            ],
            "text/html": [
              "\n",
              "  <div id=\"df-2bfbf919-238d-4852-b88d-f9410ea892cb\" class=\"colab-df-container\">\n",
              "    <div>\n",
              "<style scoped>\n",
              "    .dataframe tbody tr th:only-of-type {\n",
              "        vertical-align: middle;\n",
              "    }\n",
              "\n",
              "    .dataframe tbody tr th {\n",
              "        vertical-align: top;\n",
              "    }\n",
              "\n",
              "    .dataframe thead th {\n",
              "        text-align: right;\n",
              "    }\n",
              "</style>\n",
              "<table border=\"1\" class=\"dataframe\">\n",
              "  <thead>\n",
              "    <tr style=\"text-align: right;\">\n",
              "      <th></th>\n",
              "      <th>ID</th>\n",
              "      <th>label</th>\n",
              "      <th>pred</th>\n",
              "    </tr>\n",
              "  </thead>\n",
              "  <tbody>\n",
              "    <tr>\n",
              "      <th>0</th>\n",
              "      <td>2499</td>\n",
              "      <td>0.666667</td>\n",
              "      <td>0.153497</td>\n",
              "    </tr>\n",
              "    <tr>\n",
              "      <th>1</th>\n",
              "      <td>2500</td>\n",
              "      <td>0.666667</td>\n",
              "      <td>0.096899</td>\n",
              "    </tr>\n",
              "    <tr>\n",
              "      <th>3</th>\n",
              "      <td>2502</td>\n",
              "      <td>1.000000</td>\n",
              "      <td>0.200500</td>\n",
              "    </tr>\n",
              "    <tr>\n",
              "      <th>5</th>\n",
              "      <td>2504</td>\n",
              "      <td>0.333333</td>\n",
              "      <td>0.875041</td>\n",
              "    </tr>\n",
              "    <tr>\n",
              "      <th>6</th>\n",
              "      <td>2505</td>\n",
              "      <td>0.333333</td>\n",
              "      <td>0.971453</td>\n",
              "    </tr>\n",
              "    <tr>\n",
              "      <th>...</th>\n",
              "      <td>...</td>\n",
              "      <td>...</td>\n",
              "      <td>...</td>\n",
              "    </tr>\n",
              "    <tr>\n",
              "      <th>19593</th>\n",
              "      <td>22885</td>\n",
              "      <td>1.000000</td>\n",
              "      <td>0.166340</td>\n",
              "    </tr>\n",
              "    <tr>\n",
              "      <th>19594</th>\n",
              "      <td>22886</td>\n",
              "      <td>0.333333</td>\n",
              "      <td>-0.049349</td>\n",
              "    </tr>\n",
              "    <tr>\n",
              "      <th>19596</th>\n",
              "      <td>22888</td>\n",
              "      <td>0.333333</td>\n",
              "      <td>0.024390</td>\n",
              "    </tr>\n",
              "    <tr>\n",
              "      <th>19597</th>\n",
              "      <td>22889</td>\n",
              "      <td>0.666667</td>\n",
              "      <td>0.069241</td>\n",
              "    </tr>\n",
              "    <tr>\n",
              "      <th>19599</th>\n",
              "      <td>22891</td>\n",
              "      <td>0.666667</td>\n",
              "      <td>0.143240</td>\n",
              "    </tr>\n",
              "  </tbody>\n",
              "</table>\n",
              "<p>12850 rows × 3 columns</p>\n",
              "</div>\n",
              "    <div class=\"colab-df-buttons\">\n",
              "\n",
              "  <div class=\"colab-df-container\">\n",
              "    <button class=\"colab-df-convert\" onclick=\"convertToInteractive('df-2bfbf919-238d-4852-b88d-f9410ea892cb')\"\n",
              "            title=\"Convert this dataframe to an interactive table.\"\n",
              "            style=\"display:none;\">\n",
              "\n",
              "  <svg xmlns=\"http://www.w3.org/2000/svg\" height=\"24px\" viewBox=\"0 -960 960 960\">\n",
              "    <path d=\"M120-120v-720h720v720H120Zm60-500h600v-160H180v160Zm220 220h160v-160H400v160Zm0 220h160v-160H400v160ZM180-400h160v-160H180v160Zm440 0h160v-160H620v160ZM180-180h160v-160H180v160Zm440 0h160v-160H620v160Z\"/>\n",
              "  </svg>\n",
              "    </button>\n",
              "\n",
              "  <style>\n",
              "    .colab-df-container {\n",
              "      display:flex;\n",
              "      gap: 12px;\n",
              "    }\n",
              "\n",
              "    .colab-df-convert {\n",
              "      background-color: #E8F0FE;\n",
              "      border: none;\n",
              "      border-radius: 50%;\n",
              "      cursor: pointer;\n",
              "      display: none;\n",
              "      fill: #1967D2;\n",
              "      height: 32px;\n",
              "      padding: 0 0 0 0;\n",
              "      width: 32px;\n",
              "    }\n",
              "\n",
              "    .colab-df-convert:hover {\n",
              "      background-color: #E2EBFA;\n",
              "      box-shadow: 0px 1px 2px rgba(60, 64, 67, 0.3), 0px 1px 3px 1px rgba(60, 64, 67, 0.15);\n",
              "      fill: #174EA6;\n",
              "    }\n",
              "\n",
              "    .colab-df-buttons div {\n",
              "      margin-bottom: 4px;\n",
              "    }\n",
              "\n",
              "    [theme=dark] .colab-df-convert {\n",
              "      background-color: #3B4455;\n",
              "      fill: #D2E3FC;\n",
              "    }\n",
              "\n",
              "    [theme=dark] .colab-df-convert:hover {\n",
              "      background-color: #434B5C;\n",
              "      box-shadow: 0px 1px 3px 1px rgba(0, 0, 0, 0.15);\n",
              "      filter: drop-shadow(0px 1px 2px rgba(0, 0, 0, 0.3));\n",
              "      fill: #FFFFFF;\n",
              "    }\n",
              "  </style>\n",
              "\n",
              "    <script>\n",
              "      const buttonEl =\n",
              "        document.querySelector('#df-2bfbf919-238d-4852-b88d-f9410ea892cb button.colab-df-convert');\n",
              "      buttonEl.style.display =\n",
              "        google.colab.kernel.accessAllowed ? 'block' : 'none';\n",
              "\n",
              "      async function convertToInteractive(key) {\n",
              "        const element = document.querySelector('#df-2bfbf919-238d-4852-b88d-f9410ea892cb');\n",
              "        const dataTable =\n",
              "          await google.colab.kernel.invokeFunction('convertToInteractive',\n",
              "                                                    [key], {});\n",
              "        if (!dataTable) return;\n",
              "\n",
              "        const docLinkHtml = 'Like what you see? Visit the ' +\n",
              "          '<a target=\"_blank\" href=https://colab.research.google.com/notebooks/data_table.ipynb>data table notebook</a>'\n",
              "          + ' to learn more about interactive tables.';\n",
              "        element.innerHTML = '';\n",
              "        dataTable['output_type'] = 'display_data';\n",
              "        await google.colab.output.renderOutput(dataTable, element);\n",
              "        const docLink = document.createElement('div');\n",
              "        docLink.innerHTML = docLinkHtml;\n",
              "        element.appendChild(docLink);\n",
              "      }\n",
              "    </script>\n",
              "  </div>\n",
              "\n",
              "\n",
              "<div id=\"df-cbca1cfd-6f64-44e2-9a07-312828c218cc\">\n",
              "  <button class=\"colab-df-quickchart\" onclick=\"quickchart('df-cbca1cfd-6f64-44e2-9a07-312828c218cc')\"\n",
              "            title=\"Suggest charts\"\n",
              "            style=\"display:none;\">\n",
              "\n",
              "<svg xmlns=\"http://www.w3.org/2000/svg\" height=\"24px\"viewBox=\"0 0 24 24\"\n",
              "     width=\"24px\">\n",
              "    <g>\n",
              "        <path d=\"M19 3H5c-1.1 0-2 .9-2 2v14c0 1.1.9 2 2 2h14c1.1 0 2-.9 2-2V5c0-1.1-.9-2-2-2zM9 17H7v-7h2v7zm4 0h-2V7h2v10zm4 0h-2v-4h2v4z\"/>\n",
              "    </g>\n",
              "</svg>\n",
              "  </button>\n",
              "\n",
              "<style>\n",
              "  .colab-df-quickchart {\n",
              "      --bg-color: #E8F0FE;\n",
              "      --fill-color: #1967D2;\n",
              "      --hover-bg-color: #E2EBFA;\n",
              "      --hover-fill-color: #174EA6;\n",
              "      --disabled-fill-color: #AAA;\n",
              "      --disabled-bg-color: #DDD;\n",
              "  }\n",
              "\n",
              "  [theme=dark] .colab-df-quickchart {\n",
              "      --bg-color: #3B4455;\n",
              "      --fill-color: #D2E3FC;\n",
              "      --hover-bg-color: #434B5C;\n",
              "      --hover-fill-color: #FFFFFF;\n",
              "      --disabled-bg-color: #3B4455;\n",
              "      --disabled-fill-color: #666;\n",
              "  }\n",
              "\n",
              "  .colab-df-quickchart {\n",
              "    background-color: var(--bg-color);\n",
              "    border: none;\n",
              "    border-radius: 50%;\n",
              "    cursor: pointer;\n",
              "    display: none;\n",
              "    fill: var(--fill-color);\n",
              "    height: 32px;\n",
              "    padding: 0;\n",
              "    width: 32px;\n",
              "  }\n",
              "\n",
              "  .colab-df-quickchart:hover {\n",
              "    background-color: var(--hover-bg-color);\n",
              "    box-shadow: 0 1px 2px rgba(60, 64, 67, 0.3), 0 1px 3px 1px rgba(60, 64, 67, 0.15);\n",
              "    fill: var(--button-hover-fill-color);\n",
              "  }\n",
              "\n",
              "  .colab-df-quickchart-complete:disabled,\n",
              "  .colab-df-quickchart-complete:disabled:hover {\n",
              "    background-color: var(--disabled-bg-color);\n",
              "    fill: var(--disabled-fill-color);\n",
              "    box-shadow: none;\n",
              "  }\n",
              "\n",
              "  .colab-df-spinner {\n",
              "    border: 2px solid var(--fill-color);\n",
              "    border-color: transparent;\n",
              "    border-bottom-color: var(--fill-color);\n",
              "    animation:\n",
              "      spin 1s steps(1) infinite;\n",
              "  }\n",
              "\n",
              "  @keyframes spin {\n",
              "    0% {\n",
              "      border-color: transparent;\n",
              "      border-bottom-color: var(--fill-color);\n",
              "      border-left-color: var(--fill-color);\n",
              "    }\n",
              "    20% {\n",
              "      border-color: transparent;\n",
              "      border-left-color: var(--fill-color);\n",
              "      border-top-color: var(--fill-color);\n",
              "    }\n",
              "    30% {\n",
              "      border-color: transparent;\n",
              "      border-left-color: var(--fill-color);\n",
              "      border-top-color: var(--fill-color);\n",
              "      border-right-color: var(--fill-color);\n",
              "    }\n",
              "    40% {\n",
              "      border-color: transparent;\n",
              "      border-right-color: var(--fill-color);\n",
              "      border-top-color: var(--fill-color);\n",
              "    }\n",
              "    60% {\n",
              "      border-color: transparent;\n",
              "      border-right-color: var(--fill-color);\n",
              "    }\n",
              "    80% {\n",
              "      border-color: transparent;\n",
              "      border-right-color: var(--fill-color);\n",
              "      border-bottom-color: var(--fill-color);\n",
              "    }\n",
              "    90% {\n",
              "      border-color: transparent;\n",
              "      border-bottom-color: var(--fill-color);\n",
              "    }\n",
              "  }\n",
              "</style>\n",
              "\n",
              "  <script>\n",
              "    async function quickchart(key) {\n",
              "      const quickchartButtonEl =\n",
              "        document.querySelector('#' + key + ' button');\n",
              "      quickchartButtonEl.disabled = true;  // To prevent multiple clicks.\n",
              "      quickchartButtonEl.classList.add('colab-df-spinner');\n",
              "      try {\n",
              "        const charts = await google.colab.kernel.invokeFunction(\n",
              "            'suggestCharts', [key], {});\n",
              "      } catch (error) {\n",
              "        console.error('Error during call to suggestCharts:', error);\n",
              "      }\n",
              "      quickchartButtonEl.classList.remove('colab-df-spinner');\n",
              "      quickchartButtonEl.classList.add('colab-df-quickchart-complete');\n",
              "    }\n",
              "    (() => {\n",
              "      let quickchartButtonEl =\n",
              "        document.querySelector('#df-cbca1cfd-6f64-44e2-9a07-312828c218cc button');\n",
              "      quickchartButtonEl.style.display =\n",
              "        google.colab.kernel.accessAllowed ? 'block' : 'none';\n",
              "    })();\n",
              "  </script>\n",
              "</div>\n",
              "\n",
              "  <div id=\"id_5ff6721f-8ddb-41f6-a1eb-d0252c67ee61\">\n",
              "    <style>\n",
              "      .colab-df-generate {\n",
              "        background-color: #E8F0FE;\n",
              "        border: none;\n",
              "        border-radius: 50%;\n",
              "        cursor: pointer;\n",
              "        display: none;\n",
              "        fill: #1967D2;\n",
              "        height: 32px;\n",
              "        padding: 0 0 0 0;\n",
              "        width: 32px;\n",
              "      }\n",
              "\n",
              "      .colab-df-generate:hover {\n",
              "        background-color: #E2EBFA;\n",
              "        box-shadow: 0px 1px 2px rgba(60, 64, 67, 0.3), 0px 1px 3px 1px rgba(60, 64, 67, 0.15);\n",
              "        fill: #174EA6;\n",
              "      }\n",
              "\n",
              "      [theme=dark] .colab-df-generate {\n",
              "        background-color: #3B4455;\n",
              "        fill: #D2E3FC;\n",
              "      }\n",
              "\n",
              "      [theme=dark] .colab-df-generate:hover {\n",
              "        background-color: #434B5C;\n",
              "        box-shadow: 0px 1px 3px 1px rgba(0, 0, 0, 0.15);\n",
              "        filter: drop-shadow(0px 1px 2px rgba(0, 0, 0, 0.3));\n",
              "        fill: #FFFFFF;\n",
              "      }\n",
              "    </style>\n",
              "    <button class=\"colab-df-generate\" onclick=\"generateWithVariable('input_df')\"\n",
              "            title=\"Generate code using this dataframe.\"\n",
              "            style=\"display:none;\">\n",
              "\n",
              "  <svg xmlns=\"http://www.w3.org/2000/svg\" height=\"24px\"viewBox=\"0 0 24 24\"\n",
              "       width=\"24px\">\n",
              "    <path d=\"M7,19H8.4L18.45,9,17,7.55,7,17.6ZM5,21V16.75L18.45,3.32a2,2,0,0,1,2.83,0l1.4,1.43a1.91,1.91,0,0,1,.58,1.4,1.91,1.91,0,0,1-.58,1.4L9.25,21ZM18.45,9,17,7.55Zm-12,3A5.31,5.31,0,0,0,4.9,8.1,5.31,5.31,0,0,0,1,6.5,5.31,5.31,0,0,0,4.9,4.9,5.31,5.31,0,0,0,6.5,1,5.31,5.31,0,0,0,8.1,4.9,5.31,5.31,0,0,0,12,6.5,5.46,5.46,0,0,0,6.5,12Z\"/>\n",
              "  </svg>\n",
              "    </button>\n",
              "    <script>\n",
              "      (() => {\n",
              "      const buttonEl =\n",
              "        document.querySelector('#id_5ff6721f-8ddb-41f6-a1eb-d0252c67ee61 button.colab-df-generate');\n",
              "      buttonEl.style.display =\n",
              "        google.colab.kernel.accessAllowed ? 'block' : 'none';\n",
              "\n",
              "      buttonEl.onclick = () => {\n",
              "        google.colab.notebook.generateWithVariable('input_df');\n",
              "      }\n",
              "      })();\n",
              "    </script>\n",
              "  </div>\n",
              "\n",
              "    </div>\n",
              "  </div>\n"
            ],
            "application/vnd.google.colaboratory.intrinsic+json": {
              "type": "dataframe",
              "variable_name": "input_df",
              "summary": "{\n  \"name\": \"input_df\",\n  \"rows\": 12850,\n  \"fields\": [\n    {\n      \"column\": \"ID\",\n      \"properties\": {\n        \"dtype\": \"number\",\n        \"std\": 5759,\n        \"min\": 2499,\n        \"max\": 22891,\n        \"num_unique_values\": 12850,\n        \"samples\": [\n          18762,\n          2515,\n          16243\n        ],\n        \"semantic_type\": \"\",\n        \"description\": \"\"\n      }\n    },\n    {\n      \"column\": \"label\",\n      \"properties\": {\n        \"dtype\": \"number\",\n        \"std\": 0.4448093870939044,\n        \"min\": -1.0,\n        \"max\": 1.0,\n        \"num_unique_values\": 6,\n        \"samples\": [\n          0.6666666666666666,\n          1.0,\n          -0.3333333333333333\n        ],\n        \"semantic_type\": \"\",\n        \"description\": \"\"\n      }\n    },\n    {\n      \"column\": \"pred\",\n      \"properties\": {\n        \"dtype\": \"float32\",\n        \"num_unique_values\": 12445,\n        \"samples\": [\n          0.259182870388031,\n          -0.1934453248977661,\n          0.9851647615432739\n        ],\n        \"semantic_type\": \"\",\n        \"description\": \"\"\n      }\n    }\n  ]\n}"
            }
          },
          "metadata": {},
          "execution_count": 96
        }
      ]
    },
    {
      "cell_type": "code",
      "source": [
        "captions"
      ],
      "metadata": {
        "id": "C9kfhuX8BRVR"
      },
      "execution_count": null,
      "outputs": []
    },
    {
      "cell_type": "markdown",
      "source": [
        "## 멀티모달 이미지 감성-설명 학습(이거 로드 안되는 깨진 이미지 3개 있는데 그거 위에서 id 따질거니까 제거해두기)"
      ],
      "metadata": {
        "id": "JaHVSrMa-BVP"
      }
    }
  ]
}