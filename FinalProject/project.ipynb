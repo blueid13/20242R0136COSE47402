{
  "nbformat": 4,
  "nbformat_minor": 0,
  "metadata": {
    "colab": {
      "provenance": [],
      "machine_shape": "hm",
      "gpuType": "A100"
    },
    "kernelspec": {
      "name": "python3",
      "display_name": "Python 3"
    },
    "language_info": {
      "name": "python"
    },
    "accelerator": "GPU"
  },
  "cells": [
    {
      "cell_type": "code",
      "source": [
        "from google.colab import drive\n",
        "drive.mount('/content/drive')\n",
        "!pip install datasets --quiet\n",
        "\n",
        "import os\n",
        "import cv2\n",
        "import torch\n",
        "from torch.utils.data import Dataset, DataLoader\n",
        "from torchvision import transforms\n",
        "\n",
        "# 데이터셋 경로 설정\n",
        "data_path = '/content/drive/MyDrive/Colab Notebooks/COSE474/MVSA/data/'  # 이미지 및 텍스트 파일 폴더\n",
        "\n",
        "# 텍스트 전처리 함수\n",
        "def preprocess_text(text):\n",
        "    text = text.lower()  # 소문자로 변환\n",
        "    text = ''.join(e for e in text if e.isalnum() or e.isspace())  # 특수문자 제거\n",
        "    return text\n",
        "\n",
        "# 커스텀 데이터셋 클래스 정의\n",
        "class ImageTextDataset(Dataset):\n",
        "    def __init__(self, folder_path, transform=None):\n",
        "        self.folder_path = folder_path\n",
        "        self.transform = transform\n",
        "        self.data = []\n",
        "\n",
        "        # 폴더 내 파일 목록 가져오기\n",
        "        file_names = [f.split('.')[0] for f in os.listdir(folder_path) if f.endswith('.jpg')]  # .jpg 파일 기준\n",
        "        unique_ids = set(file_names)  # 중복 제거\n",
        "\n",
        "        for file_id in unique_ids:\n",
        "            # 이미지와 텍스트 파일 경로 생성\n",
        "            image_file = os.path.join(folder_path, f\"{file_id}.jpg\")\n",
        "            text_file = os.path.join(folder_path, f\"{file_id}.txt\")\n",
        "\n",
        "            # 이미지와 텍스트 파일이 모두 있는 경우 로드\n",
        "            if os.path.exists(image_file) and os.path.exists(text_file):\n",
        "                self.data.append((image_file, text_file))\n",
        "\n",
        "    def __len__(self):\n",
        "        return len(self.data)\n",
        "\n",
        "    def __getitem__(self, idx):\n",
        "        image_file, text_file = self.data[idx]\n",
        "\n",
        "        # 이미지 로드 및 전처리\n",
        "        image = cv2.imread(image_file)\n",
        "        if image is None:\n",
        "            raise ValueError(f\"이미지를 로드할 수 없습니다: {image_file}\")\n",
        "        image = cv2.cvtColor(image, cv2.COLOR_BGR2RGB)  # RGB로 변환\n",
        "\n",
        "        if self.transform:\n",
        "            image = self.transform(image)\n",
        "        else:\n",
        "            # 기본 변환 적용\n",
        "            image = cv2.resize(image, (224, 224))\n",
        "            image = image / 255.0  # 정규화\n",
        "            image = torch.tensor(image, dtype=torch.float32)\n",
        "            image = image.permute(2, 0, 1)  # (H, W, C) -> (C, H, W)\n",
        "\n",
        "        # 텍스트 로드 및 전처리\n",
        "        with open(text_file, 'r') as file:\n",
        "            raw_text = file.read().strip()\n",
        "        text = preprocess_text(raw_text)\n",
        "\n",
        "        return image, text\n",
        "\n",
        "# 데이터셋 및 데이터로더 생성\n",
        "transform = transforms.Compose([\n",
        "    transforms.ToPILImage(),\n",
        "    transforms.Resize((224, 224)),\n",
        "    transforms.ToTensor(),\n",
        "])\n",
        "\n",
        "dataset = ImageTextDataset(data_path, transform=transform)"
      ],
      "metadata": {
        "colab": {
          "base_uri": "https://localhost:8080/"
        },
        "id": "KmFBTZ5dJqdV",
        "outputId": "db79be9b-16ec-4933-8a78-934e6f8528ab"
      },
      "execution_count": 20,
      "outputs": [
        {
          "output_type": "stream",
          "name": "stdout",
          "text": [
            "Drive already mounted at /content/drive; to attempt to forcibly remount, call drive.mount(\"/content/drive\", force_remount=True).\n"
          ]
        }
      ]
    },
    {
      "cell_type": "code",
      "source": [
        "dataloader = DataLoader(dataset, batch_size=32, shuffle=True, num_workers=2)"
      ],
      "metadata": {
        "id": "ZCQHOIcmJucu"
      },
      "execution_count": 21,
      "outputs": []
    },
    {
      "cell_type": "markdown",
      "source": [
        "## 2. 모델과 라벨 1차 평가"
      ],
      "metadata": {
        "id": "Z6eZtH_BVGde"
      }
    },
    {
      "cell_type": "code",
      "source": [
        "import os\n",
        "import torch\n",
        "from transformers import AutoTokenizer, AutoModelForSequenceClassification\n",
        "import pandas as pd\n",
        "from collections import Counter\n",
        "from sklearn.metrics import classification_report\n",
        "\n",
        "# 1. 라벨 파일 로드 및 전처리\n",
        "label_file_path = '/content/drive/MyDrive/Colab Notebooks/COSE474/MVSA/label.txt'\n",
        "\n",
        "# 라벨 파일 로드\n",
        "label_df = pd.read_csv(label_file_path, sep='\\t', header=0)\n",
        "\n",
        "# 컬럼 이름 지정 (필요에 따라)\n",
        "label_df.columns = ['ID', 'Annotator1', 'Annotator2', 'Annotator3']\n",
        "\n",
        "# 감성 라벨 매핑\n",
        "label_mapping = {'negative': 0, 'neutral': 1, 'positive': 2}\n",
        "\n",
        "# 각 샘플에 대한 라벨러들의 라벨 수집\n",
        "all_labels = []\n",
        "sample_ids = label_df['ID'].tolist()\n",
        "for idx, row in label_df.iterrows():\n",
        "    labels = []\n",
        "    for annotator in ['Annotator1', 'Annotator2', 'Annotator3']:\n",
        "        text_label = row[annotator].split(',')[0].strip()  # 텍스트 라벨 추출\n",
        "        labels.append(text_label)\n",
        "    # 라벨 매핑 적용\n",
        "    mapped_labels = [label_mapping[label] for label in labels]\n",
        "    all_labels.append(mapped_labels)  # 각 샘플에 대한 세 명의 라벨러 라벨 저장"
      ],
      "metadata": {
        "id": "W9no3qj9P3-8"
      },
      "execution_count": 22,
      "outputs": []
    },
    {
      "cell_type": "code",
      "source": [
        "# 2. 모델 로드\n",
        "model_name = \"cardiffnlp/twitter-roberta-base-sentiment-latest\"  # 예시 모델 이름\n",
        "tokenizer = AutoTokenizer.from_pretrained(model_name)\n",
        "model = AutoModelForSequenceClassification.from_pretrained(model_name)\n",
        "\n",
        "# GPU 사용 설정 (가능한 경우)\n",
        "device = torch.device('cuda' if torch.cuda.is_available() else 'cpu')\n",
        "model.to(device)\n",
        "model.eval()  # 평가 모드로 설정\n",
        "\n",
        "# 3. 예측 수행\n",
        "predicted_labels = []\n",
        "valid_sample_ids = []\n",
        "valid_all_labels = []\n",
        "\n",
        "# 진행 상황 모니터링을 위한 설정\n",
        "total_samples = len(sample_ids)\n",
        "print(f\"총 샘플 수: {total_samples}\")\n"
      ],
      "metadata": {
        "colab": {
          "base_uri": "https://localhost:8080/"
        },
        "id": "kBrrbZGnTlAz",
        "outputId": "ff4a12a3-74dc-495f-addd-26bf990d845c"
      },
      "execution_count": 23,
      "outputs": [
        {
          "output_type": "stream",
          "name": "stderr",
          "text": [
            "Some weights of the model checkpoint at cardiffnlp/twitter-roberta-base-sentiment-latest were not used when initializing RobertaForSequenceClassification: ['roberta.pooler.dense.bias', 'roberta.pooler.dense.weight']\n",
            "- This IS expected if you are initializing RobertaForSequenceClassification from the checkpoint of a model trained on another task or with another architecture (e.g. initializing a BertForSequenceClassification model from a BertForPreTraining model).\n",
            "- This IS NOT expected if you are initializing RobertaForSequenceClassification from the checkpoint of a model that you expect to be exactly identical (initializing a BertForSequenceClassification model from a BertForSequenceClassification model).\n"
          ]
        },
        {
          "output_type": "stream",
          "name": "stdout",
          "text": [
            "총 샘플 수: 19600\n"
          ]
        }
      ]
    },
    {
      "cell_type": "markdown",
      "source": [
        "### 로컬로 파일 옮기기(자기전에돌려둘것)\n",
        "\n"
      ],
      "metadata": {
        "id": "54NbVWmXhR_V"
      }
    },
    {
      "cell_type": "code",
      "source": [
        "!apt-get update\n",
        "!apt-get install -y rsync"
      ],
      "metadata": {
        "colab": {
          "base_uri": "https://localhost:8080/"
        },
        "id": "k9FT3mNTgvw3",
        "outputId": "42c21172-baf8-49ad-b735-06dc4f0852f2"
      },
      "execution_count": 25,
      "outputs": [
        {
          "output_type": "stream",
          "name": "stdout",
          "text": [
            "\r0% [Working]\r            \rGet:1 https://cloud.r-project.org/bin/linux/ubuntu jammy-cran40/ InRelease [3,626 B]\n",
            "Hit:2 https://developer.download.nvidia.com/compute/cuda/repos/ubuntu2204/x86_64  InRelease\n",
            "Hit:3 http://archive.ubuntu.com/ubuntu jammy InRelease\n",
            "Get:4 http://security.ubuntu.com/ubuntu jammy-security InRelease [129 kB]\n",
            "Hit:5 https://ppa.launchpadcontent.net/deadsnakes/ppa/ubuntu jammy InRelease\n",
            "Get:6 http://archive.ubuntu.com/ubuntu jammy-updates InRelease [128 kB]\n",
            "Hit:7 https://ppa.launchpadcontent.net/graphics-drivers/ppa/ubuntu jammy InRelease\n",
            "Get:8 https://r2u.stat.illinois.edu/ubuntu jammy InRelease [6,555 B]\n",
            "Hit:9 https://ppa.launchpadcontent.net/ubuntugis/ppa/ubuntu jammy InRelease\n",
            "Get:10 https://r2u.stat.illinois.edu/ubuntu jammy/main amd64 Packages [2,619 kB]\n",
            "Get:11 http://archive.ubuntu.com/ubuntu jammy-backports InRelease [127 kB]\n",
            "Get:12 http://archive.ubuntu.com/ubuntu jammy-updates/universe amd64 Packages [1,513 kB]\n",
            "Get:13 http://security.ubuntu.com/ubuntu jammy-security/main amd64 Packages [2,454 kB]\n",
            "Get:14 http://archive.ubuntu.com/ubuntu jammy-updates/main amd64 Packages [2,738 kB]\n",
            "Get:15 http://archive.ubuntu.com/ubuntu jammy-backports/universe amd64 Packages [33.8 kB]\n",
            "Get:16 http://security.ubuntu.com/ubuntu jammy-security/universe amd64 Packages [1,224 kB]\n",
            "Get:17 https://r2u.stat.illinois.edu/ubuntu jammy/main all Packages [8,514 kB]\n",
            "Fetched 19.5 MB in 4s (4,417 kB/s)\n",
            "Reading package lists... Done\n",
            "W: Skipping acquire of configured file 'main/source/Sources' as repository 'https://r2u.stat.illinois.edu/ubuntu jammy InRelease' does not seem to provide it (sources.list entry misspelt?)\n",
            "Reading package lists... Done\n",
            "Building dependency tree... Done\n",
            "Reading state information... Done\n",
            "rsync is already the newest version (3.2.7-0ubuntu0.22.04.2).\n",
            "0 upgraded, 0 newly installed, 0 to remove and 57 not upgraded.\n"
          ]
        }
      ]
    },
    {
      "cell_type": "code",
      "source": [
        "source_path = '/content/drive/MyDrive/Colab Notebooks/COSE474/MVSA/data/'\n",
        "destination_path = '/content/data/'\n",
        "\n",
        "# 데이터 디렉토리가 존재하지 않으면 생성\n",
        "if not os.path.exists(destination_path):\n",
        "    os.makedirs(destination_path)\n",
        "\n",
        "# rsync 명령어 실행\n",
        "!rsync -avh --progress \"{source_path}\" \"{destination_path}\"\n"
      ],
      "metadata": {
        "id": "0seS9ve5gwsF"
      },
      "execution_count": null,
      "outputs": []
    },
    {
      "cell_type": "code",
      "source": [
        "import os\n",
        "\n",
        "directory_path = '/content/data/'\n",
        "\n",
        "# 특정 확장자(.jpg)를 가진 파일만 선택\n",
        "file_list = [f for f in os.listdir(directory_path) if f.endswith('.jpg') and os.path.isfile(os.path.join(directory_path, f))]\n",
        "\n",
        "print(f\"'{directory_path}' 디렉토리 내 '.jpg' 파일 수: {len(file_list)}개\")\n",
        "\n"
      ],
      "metadata": {
        "colab": {
          "base_uri": "https://localhost:8080/"
        },
        "id": "k8CvkyiSg4V9",
        "outputId": "801baeae-4a18-4972-c377-b13aa46ce2cc"
      },
      "execution_count": 27,
      "outputs": [
        {
          "output_type": "stream",
          "name": "stdout",
          "text": [
            "'/content/data/' 디렉토리 내 '.jpg' 파일 수: 1281개\n"
          ]
        }
      ]
    },
    {
      "cell_type": "markdown",
      "source": [
        "## csv를 통한 처리"
      ],
      "metadata": {
        "id": "KfS5nCXOiQjN"
      }
    },
    {
      "cell_type": "code",
      "source": [
        "import os\n",
        "import pandas as pd\n",
        "\n",
        "data_path = '/content/drive/MyDrive/Colab Notebooks/COSE474/MVSA/data/'\n",
        "sample_ids = label_df['ID'].tolist()\n",
        "\n",
        "texts = []\n",
        "valid_sample_ids = []\n",
        "\n",
        "for idx, sample_id in enumerate(sample_ids):\n",
        "    text_file = os.path.join(data_path, f\"{sample_id}.txt\")\n",
        "    if idx%100 == 0:\n",
        "      print(idx)\n",
        "    if os.path.exists(text_file):\n",
        "        with open(text_file, 'r', encoding='utf-8') as file:\n",
        "            raw_text = file.read().strip()\n",
        "        texts.append({'ID': sample_id, 'Text': raw_text})\n",
        "        valid_sample_ids.append(sample_id)\n",
        "    else:\n",
        "        print(f\"{sample_id}.txt 파일을 찾을 수 없습니다.\")\n",
        "\n",
        "# 텍스트 데이터를 DataFrame으로 변환\n",
        "texts_df = pd.DataFrame(texts)\n",
        "\n",
        "# CSV 파일로 저장\n",
        "texts_df.to_csv('/content/drive/MyDrive/Colab Notebooks/COSE474/MVSA/texts.csv', index=False)\n"
      ],
      "metadata": {
        "id": "rQcQbVKaiO1J"
      },
      "execution_count": null,
      "outputs": []
    },
    {
      "cell_type": "code",
      "source": [
        "# 텍스트 데이터 로드\n",
        "texts_df = pd.read_csv('/content/drive/MyDrive/Colab Notebooks/COSE474/MVSA/texts.csv')\n"
      ],
      "metadata": {
        "id": "A_k8XYMJifKc"
      },
      "execution_count": 34,
      "outputs": []
    },
    {
      "cell_type": "code",
      "source": [
        "def preprocess(text):\n",
        "    new_text = []\n",
        "    for t in text.split(\" \"):\n",
        "        t = '@user' if t.startswith('@') and len(t) > 1 else t\n",
        "        t = 'http' if t.startswith('http') else t\n",
        "        new_text.append(t)\n",
        "    return \" \".join(new_text)"
      ],
      "metadata": {
        "id": "NAsJCccnjfSF"
      },
      "execution_count": 36,
      "outputs": []
    },
    {
      "cell_type": "code",
      "source": [
        "texts_df['Text'] = texts_df['Text'].apply(preprocess)"
      ],
      "metadata": {
        "id": "gcmX3ZMwj0_E"
      },
      "execution_count": 38,
      "outputs": []
    },
    {
      "cell_type": "code",
      "source": [
        "# 라벨 데이터와 텍스트 데이터 병합\n",
        "merged_df = pd.merge(label_df, texts_df, on='ID')"
      ],
      "metadata": {
        "id": "DretnLVMj9K-"
      },
      "execution_count": 39,
      "outputs": []
    },
    {
      "cell_type": "code",
      "source": [
        "from tqdm import tqdm\n",
        "from collections import Counter\n",
        "import torch\n",
        "import torch.nn.functional as F\n",
        "from sklearn.metrics import classification_report, confusion_matrix\n",
        "import seaborn as sns\n",
        "import matplotlib.pyplot as plt\n",
        "import numpy as np\n",
        "\n",
        "# 클래스 이름 정의\n",
        "class_names = ['Negative', 'Neutral', 'Positive']\n",
        "\n",
        "predicted_labels = []\n",
        "majority_labels = []\n",
        "predicted_probabilities = []\n",
        "\n",
        "for idx, row in tqdm(merged_df.iterrows(), total=len(merged_df), desc=\"Processing\"):\n",
        "    raw_text = row['Text']\n",
        "    labels = []\n",
        "    for annotator in ['Annotator1', 'Annotator2', 'Annotator3']:\n",
        "        text_label = row[annotator].split(',')[0].strip()\n",
        "        labels.append(text_label)\n",
        "    # 라벨 매핑 적용\n",
        "    mapped_labels = [label_mapping[label] for label in labels]\n",
        "    # 다수결 라벨 계산\n",
        "    label_counts = Counter(mapped_labels)\n",
        "    majority_label = label_counts.most_common(1)[0][0]\n",
        "    majority_labels.append(majority_label)\n",
        "\n",
        "    # 텍스트 토크나이즈\n",
        "    inputs = tokenizer(\n",
        "        raw_text,\n",
        "        return_tensors='pt',\n",
        "        truncation=True,\n",
        "        padding=True,\n",
        "        max_length=128\n",
        "    )\n",
        "    inputs = {key: val.to(device) for key, val in inputs.items()}\n",
        "\n",
        "    # 모델 예측\n",
        "    with torch.no_grad():\n",
        "        outputs = model(**inputs)\n",
        "        logits = outputs.logits\n",
        "        probs = F.softmax(logits, dim=1)\n",
        "        predicted_class = torch.argmax(probs, dim=1).item()\n",
        "        predicted_labels.append(predicted_class)\n",
        "        predicted_probabilities.append(probs.cpu().numpy())\n"
      ],
      "metadata": {
        "colab": {
          "base_uri": "https://localhost:8080/"
        },
        "id": "gxDmLDnti0l-",
        "outputId": "3f52f987-de58-4292-8661-ebdbdf184268"
      },
      "execution_count": 47,
      "outputs": [
        {
          "output_type": "stream",
          "name": "stderr",
          "text": [
            "Processing: 100%|██████████| 19600/19600 [02:57<00:00, 110.39it/s]\n"
          ]
        }
      ]
    },
    {
      "cell_type": "code",
      "source": [
        "# 1. 분류 보고서 출력\n",
        "print(classification_report(majority_labels, predicted_labels, target_names=class_names))\n",
        "\n",
        "# 2. 혼동 행렬 시각화\n",
        "cm = confusion_matrix(majority_labels, predicted_labels)\n",
        "\n",
        "plt.figure(figsize=(8, 6))\n",
        "sns.heatmap(cm, annot=True, fmt='d', cmap='Blues', xticklabels=class_names, yticklabels=class_names)\n",
        "plt.xlabel('Predicted Label')\n",
        "plt.ylabel('True Label')\n",
        "plt.title('Confusion Matrix')\n",
        "plt.show()\n",
        "\n",
        "# 3. 정규화된 혼동 행렬 시각화\n",
        "cm_normalized = cm.astype('float') / cm.sum(axis=1)[:, np.newaxis]\n",
        "\n",
        "plt.figure(figsize=(8, 6))\n",
        "sns.heatmap(cm_normalized, annot=True, fmt='.2f', cmap='Blues', xticklabels=class_names, yticklabels=class_names)\n",
        "plt.xlabel('Predicted Label')\n",
        "plt.ylabel('True Label')\n",
        "plt.title('Normalized Confusion Matrix')\n",
        "plt.show()\n",
        "\n",
        "# 4. 잘못 분류된 샘플 확인\n",
        "misclassified_indices = []\n",
        "\n",
        "for i, (true_label, pred_label) in enumerate(zip(majority_labels, predicted_labels)):\n",
        "    if pred_label != true_label:\n",
        "        misclassified_indices.append(i)\n",
        "\n",
        "print(f\"잘못 분류된 샘플 수: {len(misclassified_indices)}\")\n",
        "\n",
        "# 잘못 분류된 샘플 중 일부를 출력\n",
        "num_samples_to_show = 5  # 표시할 샘플 수\n",
        "\n",
        "for idx in misclassified_indices[:num_samples_to_show]:\n",
        "    print(f\"\\n샘플 인덱스: {idx}\")\n",
        "    print(f\"텍스트: {merged_df.iloc[idx]['Text']}\")\n",
        "    true_label = class_names[majority_labels[idx]]\n",
        "    pred_label = class_names[predicted_labels[idx]]\n",
        "    print(f\"실제 라벨: {true_label}\")\n",
        "    print(f\"예측 라벨: {pred_label}\")\n",
        "\n",
        "# 5. 예시로 첫 번째 샘플의 확률 분포 출력\n",
        "first_sample_probs = predicted_probabilities[0][0]\n",
        "print(f\"\\n첫 번째 샘플의 클래스별 확률 분포:\")\n",
        "for i, prob in enumerate(first_sample_probs):\n",
        "    print(f\"{class_names[i]}: {prob:.4f}\")"
      ],
      "metadata": {
        "colab": {
          "base_uri": "https://localhost:8080/",
          "height": 1000
        },
        "id": "o6dKx-xPkdw1",
        "outputId": "599d3288-f546-4fde-d4f2-aee53ef79732"
      },
      "execution_count": 48,
      "outputs": [
        {
          "output_type": "stream",
          "name": "stdout",
          "text": [
            "              precision    recall  f1-score   support\n",
            "\n",
            "    Negative       0.41      0.42      0.41      1491\n",
            "     Neutral       0.53      0.62      0.57      7698\n",
            "    Positive       0.71      0.62      0.66     10411\n",
            "\n",
            "    accuracy                           0.60     19600\n",
            "   macro avg       0.55      0.55      0.55     19600\n",
            "weighted avg       0.61      0.60      0.61     19600\n",
            "\n"
          ]
        },
        {
          "output_type": "display_data",
          "data": {
            "text/plain": [
              "<Figure size 800x600 with 2 Axes>"
            ],
            "image/png": "[encoded data removed]"
          },
          "metadata": {}
        },
        {
          "output_type": "display_data",
          "data": {
            "text/plain": [
              "<Figure size 800x600 with 2 Axes>"
            ],
            "image/png": "[encoded data removed]"
          },
          "metadata": {}
        },
        {
          "output_type": "stream",
          "name": "stdout",
          "text": [
            "잘못 분류된 샘플 수: 7781\n",
            "\n",
            "샘플 인덱스: 0\n",
            "텍스트: Knocked doors with the venerable #TeamTrudeau #lpc candidate @user this aft in my hometown, Aurora! #elxn42\n",
            "실제 라벨: Positive\n",
            "예측 라벨: Neutral\n",
            "\n",
            "샘플 인덱스: 3\n",
            "텍스트: \"\"I think it's time for change\"\" - Ana Commit to Vote: #GenerationTrudeau #SFU #LPC #elxn42 http\n",
            "실제 라벨: Positive\n",
            "예측 라벨: Neutral\n",
            "\n",
            "샘플 인덱스: 4\n",
            "텍스트: The Past and Future of the Refugee Crisis - Thomas Sowell #elxn42 #polqc http\n",
            "실제 라벨: Positive\n",
            "예측 라벨: Neutral\n",
            "\n",
            "샘플 인덱스: 8\n",
            "텍스트: The end of the road and destined for the scrap heap #HarperBus #Canada #cdnpoli #elxn42\n",
            "실제 라벨: Neutral\n",
            "예측 라벨: Negative\n",
            "\n",
            "샘플 인덱스: 9\n",
            "텍스트: ?? Who is who and does what in the #elxn42 Conservative War Room? #CPC #CDNpoli #CANpoli http\n",
            "실제 라벨: Negative\n",
            "예측 라벨: Neutral\n",
            "\n",
            "첫 번째 샘플의 클래스별 확률 분포:\n",
            "Negative: 0.0421\n",
            "Neutral: 0.7623\n",
            "Positive: 0.1956\n"
          ]
        }
      ]
    },
    {
      "cell_type": "code",
      "source": [
        "from tqdm import tqdm\n",
        "import torch\n",
        "import torch.nn.functional as F\n",
        "from sklearn.metrics import classification_report, confusion_matrix\n",
        "import seaborn as sns\n",
        "import matplotlib.pyplot as plt\n",
        "import numpy as np\n",
        "\n",
        "# 클래스 이름 정의\n",
        "class_names = ['Negative', 'Neutral', 'Positive']\n",
        "\n",
        "predicted_labels = []\n",
        "valid_all_labels = []\n",
        "predicted_probabilities = []\n",
        "\n",
        "for idx, row in tqdm(merged_df.iterrows(), total=len(merged_df), desc=\"Processing\"):\n",
        "    raw_text = row['Text']\n",
        "    labels = []\n",
        "    for annotator in ['Annotator1', 'Annotator2', 'Annotator3']:\n",
        "        text_label = row[annotator].split(',')[0].strip()\n",
        "        labels.append(text_label)\n",
        "    # 라벨 매핑 적용\n",
        "    mapped_labels = [label_mapping[label] for label in labels]\n",
        "    valid_all_labels.append(mapped_labels)\n",
        "\n",
        "    # 텍스트 토크나이즈\n",
        "    inputs = tokenizer(\n",
        "        raw_text,\n",
        "        return_tensors='pt',\n",
        "        truncation=True,\n",
        "        padding=True,\n",
        "        max_length=128\n",
        "    )\n",
        "    inputs = {key: val.to(device) for key, val in inputs.items()}\n",
        "\n",
        "    # 모델 예측\n",
        "    with torch.no_grad():\n",
        "        outputs = model(**inputs)\n",
        "        logits = outputs.logits\n",
        "        probs = F.softmax(logits, dim=1)\n",
        "        predicted_class = torch.argmax(probs, dim=1).item()\n",
        "        predicted_labels.append(predicted_class)\n",
        "        predicted_probabilities.append(probs.cpu().numpy())\n",
        "\n",
        "# 1. 평가 기준 적용 (하나라도 일치하면 정답으로 간주)\n",
        "\n",
        "correct = 0\n",
        "total = len(predicted_labels)\n",
        "\n",
        "for i in range(total):\n",
        "    true_labels = valid_all_labels[i]  # 세 명의 라벨러 라벨\n",
        "    pred_label = predicted_labels[i]   # 모델의 예측 라벨\n",
        "    if pred_label in true_labels:\n",
        "        correct += 1\n",
        "\n",
        "accuracy = correct / total\n",
        "print(f\"\\n모델의 정확도 (하나라도 일치): {accuracy * 100:.2f}%\")\n",
        "\n"
      ],
      "metadata": {
        "colab": {
          "base_uri": "https://localhost:8080/",
          "height": 411
        },
        "id": "edbhxcRKmMHE",
        "outputId": "c2be614d-83cd-4f39-e3af-eaa74f01ddaf"
      },
      "execution_count": 49,
      "outputs": [
        {
          "output_type": "stream",
          "name": "stderr",
          "text": [
            "Processing: 100%|██████████| 19600/19600 [02:55<00:00, 111.41it/s]"
          ]
        },
        {
          "output_type": "stream",
          "name": "stdout",
          "text": [
            "\n",
            "모델의 정확도 (하나라도 일치): 86.22%\n"
          ]
        },
        {
          "output_type": "stream",
          "name": "stderr",
          "text": [
            "\n"
          ]
        },
        {
          "output_type": "error",
          "ename": "KeyError",
          "evalue": "2",
          "traceback": [
            "\u001b[0;31m---------------------------------------------------------------------------\u001b[0m",
            "\u001b[0;31mKeyError\u001b[0m                                  Traceback (most recent call last)",
            "\u001b[0;32m<ipython-input-49-dab0a8d6bf11>\u001b[0m in \u001b[0;36m<cell line: 65>\u001b[0;34m()\u001b[0m\n\u001b[1;32m     63\u001b[0m \u001b[0;34m\u001b[0m\u001b[0m\n\u001b[1;32m     64\u001b[0m \u001b[0mfirst_annotator_labels\u001b[0m \u001b[0;34m=\u001b[0m \u001b[0;34m[\u001b[0m\u001b[0mlabels\u001b[0m\u001b[0;34m[\u001b[0m\u001b[0;36m0\u001b[0m\u001b[0;34m]\u001b[0m \u001b[0;32mfor\u001b[0m \u001b[0mlabels\u001b[0m \u001b[0;32min\u001b[0m \u001b[0mvalid_all_labels\u001b[0m\u001b[0;34m]\u001b[0m\u001b[0;34m\u001b[0m\u001b[0;34m\u001b[0m\u001b[0m\n\u001b[0;32m---> 65\u001b[0;31m \u001b[0mmapped_true_labels\u001b[0m \u001b[0;34m=\u001b[0m \u001b[0;34m[\u001b[0m\u001b[0mlabel_mapping\u001b[0m\u001b[0;34m[\u001b[0m\u001b[0mlabel\u001b[0m\u001b[0;34m]\u001b[0m \u001b[0;32mfor\u001b[0m \u001b[0mlabel\u001b[0m \u001b[0;32min\u001b[0m \u001b[0mfirst_annotator_labels\u001b[0m\u001b[0;34m]\u001b[0m\u001b[0;34m\u001b[0m\u001b[0;34m\u001b[0m\u001b[0m\n\u001b[0m\u001b[1;32m     66\u001b[0m \u001b[0;34m\u001b[0m\u001b[0m\n\u001b[1;32m     67\u001b[0m \u001b[0;31m# 분류 보고서 출력\u001b[0m\u001b[0;34m\u001b[0m\u001b[0;34m\u001b[0m\u001b[0m\n",
            "\u001b[0;32m<ipython-input-49-dab0a8d6bf11>\u001b[0m in \u001b[0;36m<listcomp>\u001b[0;34m(.0)\u001b[0m\n\u001b[1;32m     63\u001b[0m \u001b[0;34m\u001b[0m\u001b[0m\n\u001b[1;32m     64\u001b[0m \u001b[0mfirst_annotator_labels\u001b[0m \u001b[0;34m=\u001b[0m \u001b[0;34m[\u001b[0m\u001b[0mlabels\u001b[0m\u001b[0;34m[\u001b[0m\u001b[0;36m0\u001b[0m\u001b[0;34m]\u001b[0m \u001b[0;32mfor\u001b[0m \u001b[0mlabels\u001b[0m \u001b[0;32min\u001b[0m \u001b[0mvalid_all_labels\u001b[0m\u001b[0;34m]\u001b[0m\u001b[0;34m\u001b[0m\u001b[0;34m\u001b[0m\u001b[0m\n\u001b[0;32m---> 65\u001b[0;31m \u001b[0mmapped_true_labels\u001b[0m \u001b[0;34m=\u001b[0m \u001b[0;34m[\u001b[0m\u001b[0mlabel_mapping\u001b[0m\u001b[0;34m[\u001b[0m\u001b[0mlabel\u001b[0m\u001b[0;34m]\u001b[0m \u001b[0;32mfor\u001b[0m \u001b[0mlabel\u001b[0m \u001b[0;32min\u001b[0m \u001b[0mfirst_annotator_labels\u001b[0m\u001b[0;34m]\u001b[0m\u001b[0;34m\u001b[0m\u001b[0;34m\u001b[0m\u001b[0m\n\u001b[0m\u001b[1;32m     66\u001b[0m \u001b[0;34m\u001b[0m\u001b[0m\n\u001b[1;32m     67\u001b[0m \u001b[0;31m# 분류 보고서 출력\u001b[0m\u001b[0;34m\u001b[0m\u001b[0;34m\u001b[0m\u001b[0m\n",
            "\u001b[0;31mKeyError\u001b[0m: 2"
          ]
        }
      ]
    },
    {
      "cell_type": "code",
      "source": [
        "\n",
        "# 2. 혼동 행렬 시각화 (선택 사항)\n",
        "\n",
        "# 실제 라벨을 각 샘플마다 세 개의 라벨이 아닌 단일 라벨로 가져와야 혼동 행렬을 그릴 수 있습니다.\n",
        "# 여기서는 각 샘플마다 첫 번째 라벨러의 라벨을 사용하여 혼동 행렬을 그려보겠습니다.\n",
        "\n",
        "# 기존 코드에서 해당 부분 수정\n",
        "first_annotator_labels = [labels[0] for labels in valid_all_labels]\n",
        "\n",
        "# 이 부분에서 추가적인 매핑 제거\n",
        "# mapped_true_labels = [label_mapping[label] for label in first_annotator_labels]  # 이 줄 제거 또는 주석 처리\n",
        "\n",
        "# 대신 mapped_true_labels를 first_annotator_labels로 설정\n",
        "mapped_true_labels = first_annotator_labels\n",
        "\n",
        "# 분류 보고서 출력\n",
        "print(\"\\n분류 보고서 (첫 번째 라벨러 기준):\")\n",
        "print(classification_report(mapped_true_labels, predicted_labels, target_names=class_names))\n",
        "\n",
        "# 혼동 행렬 계산\n",
        "cm = confusion_matrix(mapped_true_labels, predicted_labels)\n",
        "\n",
        "plt.figure(figsize=(8, 6))\n",
        "sns.heatmap(cm, annot=True, fmt='d', cmap='Blues', xticklabels=class_names, yticklabels=class_names)\n",
        "plt.xlabel('예측 라벨')\n",
        "plt.ylabel('실제 라벨')\n",
        "plt.title('혼동 행렬 (첫 번째 라벨러 기준)')\n",
        "plt.show()\n",
        "\n",
        "# 3. 잘못 분류된 샘플 확인\n",
        "\n",
        "misclassified_indices = []\n",
        "\n",
        "for i in range(total):\n",
        "    true_labels = valid_all_labels[i]\n",
        "    pred_label = predicted_labels[i]\n",
        "    if pred_label not in true_labels:\n",
        "        misclassified_indices.append(i)\n",
        "\n",
        "print(f\"\\n잘못 분류된 샘플 수: {len(misclassified_indices)}\")\n",
        "\n",
        "# 잘못 분류된 샘플 중 일부를 출력\n",
        "num_samples_to_show = 5  # 표시할 샘플 수\n",
        "\n",
        "for idx in misclassified_indices[:num_samples_to_show]:\n",
        "    print(f\"\\n샘플 인덱스: {idx}\")\n",
        "    print(f\"텍스트: {merged_df.iloc[idx]['Text']}\")\n",
        "    true_labels = [class_names[label] for label in valid_all_labels[idx]]\n",
        "    pred_label = class_names[predicted_labels[idx]]\n",
        "    print(f\"실제 라벨들: {true_labels}\")\n",
        "    print(f\"예측 라벨: {pred_label}\")"
      ],
      "metadata": {
        "colab": {
          "base_uri": "https://localhost:8080/",
          "height": 1000
        },
        "id": "as81L0r-oHOe",
        "outputId": "5a6af1fe-5938-4a21-b1b9-59a5bc2a9430"
      },
      "execution_count": 50,
      "outputs": [
        {
          "output_type": "stream",
          "name": "stdout",
          "text": [
            "\n",
            "분류 보고서 (첫 번째 라벨러 기준):\n",
            "              precision    recall  f1-score   support\n",
            "\n",
            "    Negative       0.39      0.33      0.36      1800\n",
            "     Neutral       0.51      0.57      0.54      8072\n",
            "    Positive       0.64      0.60      0.62      9728\n",
            "\n",
            "    accuracy                           0.56     19600\n",
            "   macro avg       0.51      0.50      0.50     19600\n",
            "weighted avg       0.56      0.56      0.56     19600\n",
            "\n"
          ]
        },
        {
          "output_type": "stream",
          "name": "stderr",
          "text": [
            "/usr/local/lib/python3.10/dist-packages/IPython/core/pylabtools.py:151: UserWarning: Glyph 49892 (\\N{HANGUL SYLLABLE SIL}) missing from current font.\n",
            "  fig.canvas.print_figure(bytes_io, **kw)\n",
            "/usr/local/lib/python3.10/dist-packages/IPython/core/pylabtools.py:151: UserWarning: Glyph 51228 (\\N{HANGUL SYLLABLE JE}) missing from current font.\n",
            "  fig.canvas.print_figure(bytes_io, **kw)\n",
            "/usr/local/lib/python3.10/dist-packages/IPython/core/pylabtools.py:151: UserWarning: Glyph 46972 (\\N{HANGUL SYLLABLE RA}) missing from current font.\n",
            "  fig.canvas.print_figure(bytes_io, **kw)\n",
            "/usr/local/lib/python3.10/dist-packages/IPython/core/pylabtools.py:151: UserWarning: Glyph 48296 (\\N{HANGUL SYLLABLE BEL}) missing from current font.\n",
            "  fig.canvas.print_figure(bytes_io, **kw)\n",
            "/usr/local/lib/python3.10/dist-packages/IPython/core/pylabtools.py:151: UserWarning: Glyph 54844 (\\N{HANGUL SYLLABLE HON}) missing from current font.\n",
            "  fig.canvas.print_figure(bytes_io, **kw)\n",
            "/usr/local/lib/python3.10/dist-packages/IPython/core/pylabtools.py:151: UserWarning: Glyph 46041 (\\N{HANGUL SYLLABLE DONG}) missing from current font.\n",
            "  fig.canvas.print_figure(bytes_io, **kw)\n",
            "/usr/local/lib/python3.10/dist-packages/IPython/core/pylabtools.py:151: UserWarning: Glyph 54665 (\\N{HANGUL SYLLABLE HAENG}) missing from current font.\n",
            "  fig.canvas.print_figure(bytes_io, **kw)\n",
            "/usr/local/lib/python3.10/dist-packages/IPython/core/pylabtools.py:151: UserWarning: Glyph 47148 (\\N{HANGUL SYLLABLE RYEOL}) missing from current font.\n",
            "  fig.canvas.print_figure(bytes_io, **kw)\n",
            "/usr/local/lib/python3.10/dist-packages/IPython/core/pylabtools.py:151: UserWarning: Glyph 52395 (\\N{HANGUL SYLLABLE CEOS}) missing from current font.\n",
            "  fig.canvas.print_figure(bytes_io, **kw)\n",
            "/usr/local/lib/python3.10/dist-packages/IPython/core/pylabtools.py:151: UserWarning: Glyph 48264 (\\N{HANGUL SYLLABLE BEON}) missing from current font.\n",
            "  fig.canvas.print_figure(bytes_io, **kw)\n",
            "/usr/local/lib/python3.10/dist-packages/IPython/core/pylabtools.py:151: UserWarning: Glyph 51704 (\\N{HANGUL SYLLABLE JJAE}) missing from current font.\n",
            "  fig.canvas.print_figure(bytes_io, **kw)\n",
            "/usr/local/lib/python3.10/dist-packages/IPython/core/pylabtools.py:151: UserWarning: Glyph 47084 (\\N{HANGUL SYLLABLE REO}) missing from current font.\n",
            "  fig.canvas.print_figure(bytes_io, **kw)\n",
            "/usr/local/lib/python3.10/dist-packages/IPython/core/pylabtools.py:151: UserWarning: Glyph 44592 (\\N{HANGUL SYLLABLE GI}) missing from current font.\n",
            "  fig.canvas.print_figure(bytes_io, **kw)\n",
            "/usr/local/lib/python3.10/dist-packages/IPython/core/pylabtools.py:151: UserWarning: Glyph 51456 (\\N{HANGUL SYLLABLE JUN}) missing from current font.\n",
            "  fig.canvas.print_figure(bytes_io, **kw)\n",
            "/usr/local/lib/python3.10/dist-packages/IPython/core/pylabtools.py:151: UserWarning: Glyph 50696 (\\N{HANGUL SYLLABLE YE}) missing from current font.\n",
            "  fig.canvas.print_figure(bytes_io, **kw)\n",
            "/usr/local/lib/python3.10/dist-packages/IPython/core/pylabtools.py:151: UserWarning: Glyph 52769 (\\N{HANGUL SYLLABLE CEUG}) missing from current font.\n",
            "  fig.canvas.print_figure(bytes_io, **kw)\n"
          ]
        },
        {
          "output_type": "display_data",
          "data": {
            "text/plain": [
              "<Figure size 800x600 with 2 Axes>"
            ],
            "image/png": "[encoded data removed]"
          },
          "metadata": {}
        },
        {
          "output_type": "stream",
          "name": "stdout",
          "text": [
            "\n",
            "잘못 분류된 샘플 수: 2701\n",
            "\n",
            "샘플 인덱스: 3\n",
            "텍스트: \"\"I think it's time for change\"\" - Ana Commit to Vote: #GenerationTrudeau #SFU #LPC #elxn42 http\n",
            "실제 라벨들: ['Positive', 'Positive', 'Positive']\n",
            "예측 라벨: Neutral\n",
            "\n",
            "샘플 인덱스: 4\n",
            "텍스트: The Past and Future of the Refugee Crisis - Thomas Sowell #elxn42 #polqc http\n",
            "실제 라벨들: ['Positive', 'Positive', 'Positive']\n",
            "예측 라벨: Neutral\n",
            "\n",
            "샘플 인덱스: 8\n",
            "텍스트: The end of the road and destined for the scrap heap #HarperBus #Canada #cdnpoli #elxn42\n",
            "실제 라벨들: ['Positive', 'Neutral', 'Neutral']\n",
            "예측 라벨: Negative\n",
            "\n",
            "샘플 인덱스: 9\n",
            "텍스트: ?? Who is who and does what in the #elxn42 Conservative War Room? #CPC #CDNpoli #CANpoli http\n",
            "실제 라벨들: ['Negative', 'Negative', 'Negative']\n",
            "예측 라벨: Neutral\n",
            "\n",
            "샘플 인덱스: 12\n",
            "텍스트: Great AM with riding neighbors @user &amp; @user sharing our #LPC plan for #RealChange! #DVW #elxn42\n",
            "실제 라벨들: ['Neutral', 'Neutral', 'Neutral']\n",
            "예측 라벨: Positive\n"
          ]
        }
      ]
    },
    {
      "cell_type": "markdown",
      "source": [
        "## 모델 추가학습"
      ],
      "metadata": {
        "id": "Qp2jypF0sMUi"
      }
    },
    {
      "cell_type": "code",
      "source": [
        "from collections import Counter\n",
        "\n",
        "# 다수결 라벨 계산 함수\n",
        "def get_majority_label(labels):\n",
        "    label_counts = Counter(labels)\n",
        "    majority_label = label_counts.most_common(1)[0][0]\n",
        "    return majority_label\n",
        "\n",
        "# 데이터셋 생성\n",
        "data = []\n",
        "for idx, row in merged_df.iterrows():\n",
        "    raw_text = row['Text']\n",
        "    labels = []\n",
        "    for annotator in ['Annotator1', 'Annotator2', 'Annotator3']:\n",
        "        text_label = row[annotator].split(',')[0].strip()\n",
        "        labels.append(text_label)\n",
        "    # 라벨 매핑 적용\n",
        "    mapped_labels = [label_mapping[label] for label in labels]\n",
        "    # 다수결 라벨 계산\n",
        "    majority_label = get_majority_label(mapped_labels)\n",
        "    data.append({'text': raw_text, 'label': majority_label})\n"
      ],
      "metadata": {
        "id": "PlxcWgitsLzr"
      },
      "execution_count": 51,
      "outputs": []
    },
    {
      "cell_type": "code",
      "source": [
        "import pandas as pd\n",
        "\n",
        "# 데이터프레임 생성\n",
        "data_df = pd.DataFrame(data)\n",
        "\n",
        "# CSV 파일로 저장\n",
        "data_df.to_csv('dataset.csv', index=False)\n"
      ],
      "metadata": {
        "id": "f-_pyLynsL6q"
      },
      "execution_count": 52,
      "outputs": []
    },
    {
      "cell_type": "code",
      "source": [
        "from sklearn.model_selection import train_test_split\n",
        "\n",
        "# 전체 데이터셋 로드\n",
        "data_df = pd.read_csv('dataset.csv')\n",
        "\n",
        "# 학습용과 임시 테스트용으로 먼저 분할\n",
        "train_df, temp_df = train_test_split(data_df, test_size=0.2, random_state=42)\n",
        "\n",
        "# 임시 테스트용을 다시 검증용과 테스트용으로 분할\n",
        "val_df, test_df = train_test_split(temp_df, test_size=0.5, random_state=42)\n",
        "\n",
        "print(f\"학습 데이터 수: {len(train_df)}\")\n",
        "print(f\"검증 데이터 수: {len(val_df)}\")\n",
        "print(f\"테스트 데이터 수: {len(test_df)}\")\n"
      ],
      "metadata": {
        "id": "HMC6vwpLsL9c",
        "outputId": "0c12bf52-6355-4207-e9b4-6737b71152fa",
        "colab": {
          "base_uri": "https://localhost:8080/"
        }
      },
      "execution_count": 53,
      "outputs": [
        {
          "output_type": "stream",
          "name": "stdout",
          "text": [
            "학습 데이터 수: 15680\n",
            "검증 데이터 수: 1960\n",
            "테스트 데이터 수: 1960\n"
          ]
        }
      ]
    },
    {
      "cell_type": "code",
      "source": [
        "from torch.utils.data import Dataset\n",
        "\n",
        "class SentimentDataset(Dataset):\n",
        "    def __init__(self, texts, labels, tokenizer, max_length=128):\n",
        "        self.texts = texts\n",
        "        self.labels = labels\n",
        "        self.tokenizer = tokenizer\n",
        "        self.max_length = max_length\n",
        "\n",
        "    def __len__(self):\n",
        "        return len(self.texts)\n",
        "\n",
        "    def __getitem__(self, idx):\n",
        "        text = str(self.texts[idx])\n",
        "        label = self.labels[idx]\n",
        "\n",
        "        # 토크나이즈 및 인코딩\n",
        "        encoding = self.tokenizer.encode_plus(\n",
        "            text,\n",
        "            add_special_tokens=True,\n",
        "            truncation=True,\n",
        "            max_length=self.max_length,\n",
        "            padding='max_length',\n",
        "            return_attention_mask=True,\n",
        "            return_tensors='pt',\n",
        "        )\n",
        "\n",
        "        inputs = {\n",
        "            'input_ids': encoding['input_ids'].flatten(),\n",
        "            'attention_mask': encoding['attention_mask'].flatten(),\n",
        "            'labels': torch.tensor(label, dtype=torch.long)\n",
        "        }\n",
        "\n",
        "        return inputs\n"
      ],
      "metadata": {
        "id": "O2AN3-clsl2y"
      },
      "execution_count": 54,
      "outputs": []
    },
    {
      "cell_type": "code",
      "source": [
        "from transformers import AutoTokenizer, AutoModelForSequenceClassification\n",
        "\n",
        "model_name = \"cardiffnlp/twitter-roberta-base-sentiment-latest\"  # 기존에 사용한 모델 이름\n",
        "\n",
        "tokenizer = AutoTokenizer.from_pretrained(model_name)\n",
        "model = AutoModelForSequenceClassification.from_pretrained(model_name, num_labels=3)\n",
        "\n",
        "# GPU 사용 설정\n",
        "device = torch.device('cuda' if torch.cuda.is_available() else 'cpu')\n",
        "model.to(device)\n"
      ],
      "metadata": {
        "id": "CCI-aKZSsnfk"
      },
      "execution_count": null,
      "outputs": []
    },
    {
      "cell_type": "code",
      "source": [
        "from torch.utils.data import DataLoader\n",
        "\n",
        "# 데이터셋 객체 생성\n",
        "train_dataset = SentimentDataset(\n",
        "    texts=train_df['text'].tolist(),\n",
        "    labels=train_df['label'].tolist(),\n",
        "    tokenizer=tokenizer\n",
        ")\n",
        "\n",
        "val_dataset = SentimentDataset(\n",
        "    texts=val_df['text'].tolist(),\n",
        "    labels=val_df['label'].tolist(),\n",
        "    tokenizer=tokenizer\n",
        ")\n",
        "\n",
        "test_dataset = SentimentDataset(\n",
        "    texts=test_df['text'].tolist(),\n",
        "    labels=test_df['label'].tolist(),\n",
        "    tokenizer=tokenizer\n",
        ")\n",
        "\n",
        "# 데이터로더 생성\n",
        "train_loader = DataLoader(train_dataset, batch_size=32, shuffle=True)\n",
        "val_loader = DataLoader(val_dataset, batch_size=32)\n",
        "test_loader = DataLoader(test_dataset, batch_size=32)\n"
      ],
      "metadata": {
        "id": "mnGU59Yqsp3q"
      },
      "execution_count": 56,
      "outputs": []
    },
    {
      "cell_type": "code",
      "source": [
        "import torch\n",
        "from transformers import AdamW, get_linear_schedule_with_warmup\n",
        "\n",
        "# 옵티마이저 설정\n",
        "optimizer = AdamW(model.parameters(), lr=2e-5, correct_bias=False)\n",
        "\n",
        "# 학습 스케줄러 설정\n",
        "total_steps = len(train_loader) * 3  # 에포크 수에 따라 조정 (예: 3 에포크)\n",
        "\n",
        "scheduler = get_linear_schedule_with_warmup(\n",
        "    optimizer,\n",
        "    num_warmup_steps=0,\n",
        "    num_training_steps=total_steps\n",
        ")\n",
        "\n",
        "# 손실 함수 설정\n",
        "loss_fn = torch.nn.CrossEntropyLoss().to(device)\n"
      ],
      "metadata": {
        "id": "MLIw0ciisxJD",
        "outputId": "1c59e368-3b57-4d5c-fd2d-c5687e251d29",
        "colab": {
          "base_uri": "https://localhost:8080/"
        }
      },
      "execution_count": 57,
      "outputs": [
        {
          "output_type": "stream",
          "name": "stderr",
          "text": [
            "/usr/local/lib/python3.10/dist-packages/transformers/optimization.py:591: FutureWarning: This implementation of AdamW is deprecated and will be removed in a future version. Use the PyTorch implementation torch.optim.AdamW instead, or set `no_deprecation_warning=True` to disable this warning\n",
            "  warnings.warn(\n"
          ]
        }
      ]
    },
    {
      "cell_type": "code",
      "source": [
        "import numpy as np\n",
        "\n",
        "def train_epoch(model, data_loader, loss_fn, optimizer, device, scheduler, n_examples):\n",
        "    model = model.train()\n",
        "\n",
        "    losses = []\n",
        "    correct_predictions = 0\n",
        "\n",
        "    for d in tqdm(data_loader, desc=\"Training\"):\n",
        "        input_ids = d[\"input_ids\"].to(device)\n",
        "        attention_mask = d[\"attention_mask\"].to(device)\n",
        "        labels = d[\"labels\"].to(device)\n",
        "\n",
        "        outputs = model(\n",
        "            input_ids=input_ids,\n",
        "            attention_mask=attention_mask,\n",
        "            labels=labels\n",
        "        )\n",
        "\n",
        "        loss = outputs.loss\n",
        "        logits = outputs.logits\n",
        "\n",
        "        _, preds = torch.max(logits, dim=1)\n",
        "        correct_predictions += torch.sum(preds == labels)\n",
        "        losses.append(loss.item())\n",
        "\n",
        "        loss.backward()\n",
        "        optimizer.step()\n",
        "        scheduler.step()\n",
        "        optimizer.zero_grad()\n",
        "\n",
        "    return correct_predictions.double() / n_examples, np.mean(losses)\n",
        "\n",
        "def eval_model(model, data_loader, loss_fn, device, n_examples):\n",
        "    model = model.eval()\n",
        "\n",
        "    losses = []\n",
        "    correct_predictions = 0\n",
        "\n",
        "    with torch.no_grad():\n",
        "        for d in tqdm(data_loader, desc=\"Evaluating\"):\n",
        "            input_ids = d[\"input_ids\"].to(device)\n",
        "            attention_mask = d[\"attention_mask\"].to(device)\n",
        "            labels = d[\"labels\"].to(device)\n",
        "\n",
        "            outputs = model(\n",
        "                input_ids=input_ids,\n",
        "                attention_mask=attention_mask,\n",
        "                labels=labels\n",
        "            )\n",
        "\n",
        "            loss = outputs.loss\n",
        "            logits = outputs.logits\n",
        "\n",
        "            _, preds = torch.max(logits, dim=1)\n",
        "            correct_predictions += torch.sum(preds == labels)\n",
        "            losses.append(loss.item())\n",
        "\n",
        "    return correct_predictions.double() / n_examples, np.mean(losses)\n"
      ],
      "metadata": {
        "id": "hv4cIYjfszJE"
      },
      "execution_count": 58,
      "outputs": []
    },
    {
      "cell_type": "code",
      "source": [
        "from tqdm import tqdm\n",
        "\n",
        "EPOCHS = 3\n",
        "\n",
        "for epoch in range(EPOCHS):\n",
        "    print(f'\\nEpoch {epoch + 1}/{EPOCHS}')\n",
        "    print('-' * 10)\n",
        "\n",
        "    train_acc, train_loss = train_epoch(\n",
        "        model,\n",
        "        train_loader,\n",
        "        loss_fn,\n",
        "        optimizer,\n",
        "        device,\n",
        "        scheduler,\n",
        "        len(train_dataset)\n",
        "    )\n",
        "\n",
        "    print(f'Train loss {train_loss} accuracy {train_acc}')\n",
        "\n",
        "    val_acc, val_loss = eval_model(\n",
        "        model,\n",
        "        val_loader,\n",
        "        loss_fn,\n",
        "        device,\n",
        "        len(val_dataset)\n",
        "    )\n",
        "\n",
        "    print(f'Validation loss {val_loss} accuracy {val_acc}')\n"
      ],
      "metadata": {
        "id": "KKf-2J6Xszwr",
        "outputId": "0448c598-f0bb-42ab-de32-f3e8301ad9f5",
        "colab": {
          "base_uri": "https://localhost:8080/"
        }
      },
      "execution_count": 59,
      "outputs": [
        {
          "output_type": "stream",
          "name": "stdout",
          "text": [
            "\n",
            "Epoch 1/3\n",
            "----------\n"
          ]
        },
        {
          "output_type": "stream",
          "name": "stderr",
          "text": [
            "Training: 100%|██████████| 490/490 [02:19<00:00,  3.51it/s]\n"
          ]
        },
        {
          "output_type": "stream",
          "name": "stdout",
          "text": [
            "Train loss 0.8002933454756834 accuracy 0.5963010204081634\n"
          ]
        },
        {
          "output_type": "stream",
          "name": "stderr",
          "text": [
            "Evaluating: 100%|██████████| 62/62 [00:06<00:00,  9.90it/s]\n"
          ]
        },
        {
          "output_type": "stream",
          "name": "stdout",
          "text": [
            "Validation loss 0.755511753020748 accuracy 0.6423469387755103\n",
            "\n",
            "Epoch 2/3\n",
            "----------\n"
          ]
        },
        {
          "output_type": "stream",
          "name": "stderr",
          "text": [
            "Training: 100%|██████████| 490/490 [02:18<00:00,  3.54it/s]\n"
          ]
        },
        {
          "output_type": "stream",
          "name": "stdout",
          "text": [
            "Train loss 0.6806578916554549 accuracy 0.6857142857142857\n"
          ]
        },
        {
          "output_type": "stream",
          "name": "stderr",
          "text": [
            "Evaluating: 100%|██████████| 62/62 [00:06<00:00, 10.07it/s]\n"
          ]
        },
        {
          "output_type": "stream",
          "name": "stdout",
          "text": [
            "Validation loss 0.7753163302137006 accuracy 0.6311224489795919\n",
            "\n",
            "Epoch 3/3\n",
            "----------\n"
          ]
        },
        {
          "output_type": "stream",
          "name": "stderr",
          "text": [
            "Training: 100%|██████████| 490/490 [02:18<00:00,  3.54it/s]\n"
          ]
        },
        {
          "output_type": "stream",
          "name": "stdout",
          "text": [
            "Train loss 0.574734527845772 accuracy 0.7504464285714286\n"
          ]
        },
        {
          "output_type": "stream",
          "name": "stderr",
          "text": [
            "Evaluating: 100%|██████████| 62/62 [00:06<00:00, 10.00it/s]"
          ]
        },
        {
          "output_type": "stream",
          "name": "stdout",
          "text": [
            "Validation loss 0.8523395744062239 accuracy 0.6224489795918368\n"
          ]
        },
        {
          "output_type": "stream",
          "name": "stderr",
          "text": [
            "\n"
          ]
        }
      ]
    },
    {
      "cell_type": "code",
      "source": [
        "test_acc, _ = eval_model(\n",
        "    model,\n",
        "    test_loader,\n",
        "    loss_fn,\n",
        "    device,\n",
        "    len(test_dataset)\n",
        ")\n",
        "\n",
        "print(f'\\nTest Accuracy: {test_acc.item() * 100:.2f}%')\n"
      ],
      "metadata": {
        "id": "LkrnsXOhs2Ma",
        "outputId": "99f9099f-a608-4c91-e133-558630b3b363",
        "colab": {
          "base_uri": "https://localhost:8080/"
        }
      },
      "execution_count": 60,
      "outputs": [
        {
          "output_type": "stream",
          "name": "stderr",
          "text": [
            "Evaluating: 100%|██████████| 62/62 [00:06<00:00, 10.08it/s]"
          ]
        },
        {
          "output_type": "stream",
          "name": "stdout",
          "text": [
            "\n",
            "Test Accuracy: 61.07%\n"
          ]
        },
        {
          "output_type": "stream",
          "name": "stderr",
          "text": [
            "\n"
          ]
        }
      ]
    },
    {
      "cell_type": "code",
      "source": [
        "from sklearn.metrics import classification_report\n",
        "\n",
        "def get_predictions(model, data_loader):\n",
        "    model = model.eval()\n",
        "\n",
        "    texts = []\n",
        "    predictions = []\n",
        "    prediction_probs = []\n",
        "    real_values = []\n",
        "\n",
        "    with torch.no_grad():\n",
        "        for d in tqdm(data_loader, desc=\"Predicting\"):\n",
        "            texts.extend(d[\"input_ids\"].tolist())\n",
        "            input_ids = d[\"input_ids\"].to(device)\n",
        "            attention_mask = d[\"attention_mask\"].to(device)\n",
        "            labels = d[\"labels\"].to(device)\n",
        "\n",
        "            outputs = model(\n",
        "                input_ids=input_ids,\n",
        "                attention_mask=attention_mask\n",
        "            )\n",
        "\n",
        "            logits = outputs.logits\n",
        "            probs = torch.nn.functional.softmax(logits, dim=1)\n",
        "            _, preds = torch.max(probs, dim=1)\n",
        "\n",
        "            predictions.extend(preds)\n",
        "            prediction_probs.extend(probs)\n",
        "            real_values.extend(labels)\n",
        "\n",
        "    predictions = torch.stack(predictions).cpu()\n",
        "    prediction_probs = torch.stack(prediction_probs).cpu()\n",
        "    real_values = torch.stack(real_values).cpu()\n",
        "    return predictions, prediction_probs, real_values\n",
        "\n",
        "y_pred, y_probs, y_test = get_predictions(model, test_loader)\n",
        "\n",
        "print(classification_report(y_test, y_pred, target_names=class_names))\n"
      ],
      "metadata": {
        "id": "EJujZXuKs447",
        "outputId": "13e4f7d0-2569-4577-b2c0-c1b3876bd08d",
        "colab": {
          "base_uri": "https://localhost:8080/"
        }
      },
      "execution_count": 61,
      "outputs": [
        {
          "output_type": "stream",
          "name": "stderr",
          "text": [
            "Predicting: 100%|██████████| 62/62 [00:06<00:00, 10.04it/s]"
          ]
        },
        {
          "output_type": "stream",
          "name": "stdout",
          "text": [
            "              precision    recall  f1-score   support\n",
            "\n",
            "    Negative       0.48      0.39      0.43       157\n",
            "     Neutral       0.55      0.47      0.51       758\n",
            "    Positive       0.66      0.75      0.70      1045\n",
            "\n",
            "    accuracy                           0.61      1960\n",
            "   macro avg       0.56      0.53      0.54      1960\n",
            "weighted avg       0.60      0.61      0.60      1960\n",
            "\n"
          ]
        },
        {
          "output_type": "stream",
          "name": "stderr",
          "text": [
            "\n"
          ]
        }
      ]
    },
    {
      "cell_type": "code",
      "source": [
        "import torch\n",
        "import torch.nn.functional as F\n",
        "from transformers import AutoTokenizer, AutoModelForSequenceClassification\n",
        "from tqdm import tqdm\n",
        "from collections import Counter\n",
        "from sklearn.metrics import classification_report, confusion_matrix\n",
        "import seaborn as sns\n",
        "import matplotlib.pyplot as plt\n",
        "import numpy as np\n",
        "import pandas as pd\n",
        "\n",
        "# 1. 미세 조정된 모델과 토크나이저 로드\n",
        "model_path = 'fine_tuned_model'  # 모델이 저장된 경로를 지정하세요\n",
        "\n",
        "tokenizer = AutoTokenizer.from_pretrained(model_path)\n",
        "model = AutoModelForSequenceClassification.from_pretrained(model_path)\n",
        "\n",
        "# GPU 사용 설정 (가능한 경우)\n",
        "device = torch.device('cuda' if torch.cuda.is_available() else 'cpu')\n",
        "model.to(device)\n",
        "model.eval()  # 평가 모드로 설정\n",
        "\n",
        "# 2. 테스트 데이터 준비\n",
        "# 이전에 데이터셋을 나눴을 때 저장한 test_df를 사용한다고 가정합니다.\n",
        "\n",
        "# 만약 test_df를 저장했다면 로드합니다.\n",
        "# test_df = pd.read_csv('test_dataset.csv')  # 저장한 경로로 변경하세요\n",
        "\n",
        "# 또는 이전에 나눴던 test_df를 그대로 사용합니다.\n",
        "\n",
        "# 테스트 데이터에서 텍스트와 라벨 가져오기\n",
        "# 라벨 파일 로드 및 전처리 (라벨러들의 라벨 포함)\n",
        "\n",
        "label_file_path = '/content/drive/MyDrive/Colab Notebooks/COSE474/MVSA/label.txt'\n",
        "label_df = pd.read_csv(label_file_path, sep='\\t', header=0)\n",
        "label_df.columns = ['ID', 'Annotator1', 'Annotator2', 'Annotator3']\n",
        "\n",
        "# 테스트 데이터와 라벨 데이터 병합\n",
        "# 1. test_df의 인덱스를 리셋하여 'id'를 컬럼으로 만듭니다.\n",
        "test_df = test_df.reset_index()\n",
        "\n",
        "# 2. 'id' 컬럼의 이름을 'ID'로 변경하여 label_df와 일치시킵니다.\n",
        "test_df = test_df.rename(columns={'index': 'ID'})\n",
        "\n",
        "# 3. 이제 'ID' 컬럼을 기준으로 병합할 수 있습니다.\n",
        "test_df = test_df.merge(label_df, on='ID')\n",
        "\n",
        "\n",
        "# 감성 라벨 매핑\n",
        "label_mapping = {'negative': 0, 'neutral': 1, 'positive': 2}\n",
        "\n",
        "# 클래스 이름 정의\n",
        "class_names = ['Negative', 'Neutral', 'Positive']\n",
        "\n",
        "# 3. 예측 수행\n",
        "predicted_labels = []\n",
        "valid_all_labels = []\n",
        "predicted_probabilities = []\n",
        "\n",
        "for idx, row in tqdm(test_df.iterrows(), total=len(test_df), desc=\"Processing\"):\n",
        "    raw_text = row['text']  # 테스트 데이터의 텍스트 열 이름이 'text'라고 가정합니다.\n",
        "\n",
        "    labels = []\n",
        "    for annotator in ['Annotator1', 'Annotator2', 'Annotator3']:\n",
        "        text_label = row[annotator].split(',')[0].strip()\n",
        "        labels.append(text_label)\n",
        "    # 라벨 매핑 적용\n",
        "    mapped_labels = [label_mapping[label] for label in labels]\n",
        "    valid_all_labels.append(mapped_labels)\n",
        "\n",
        "    # 텍스트 토크나이즈\n",
        "    inputs = tokenizer(\n",
        "        raw_text,\n",
        "        return_tensors='pt',\n",
        "        truncation=True,\n",
        "        padding=True,\n",
        "        max_length=128\n",
        "    )\n",
        "    inputs = {key: val.to(device) for key, val in inputs.items()}\n",
        "\n",
        "    # 모델 예측\n",
        "    with torch.no_grad():\n",
        "        outputs = model(**inputs)\n",
        "        logits = outputs.logits\n",
        "        probs = F.softmax(logits, dim=1)\n",
        "        predicted_class = torch.argmax(probs, dim=1).item()\n",
        "        predicted_labels.append(predicted_class)\n",
        "        predicted_probabilities.append(probs.cpu().numpy())\n",
        "\n",
        "# 4. 평가 기준 적용 (하나라도 일치하면 정답으로 간주)\n",
        "\n",
        "correct = 0\n",
        "total = len(predicted_labels)\n",
        "\n",
        "for i in range(total):\n",
        "    true_labels = valid_all_labels[i]  # 세 명의 라벨러 라벨 (숫자 라벨)\n",
        "    pred_label = predicted_labels[i]   # 모델의 예측 라벨 (숫자 라벨)\n",
        "    if pred_label in true_labels:\n",
        "        correct += 1\n",
        "\n",
        "accuracy = correct / total\n",
        "print(f\"\\n모델의 정확도 (하나라도 일치): {accuracy * 100:.2f}%\")\n",
        "\n",
        "# 5. 추가 분석 (선택 사항)\n",
        "\n",
        "# 잘못 분류된 샘플 확인\n",
        "misclassified_indices = []\n",
        "\n",
        "for i in range(total):\n",
        "    true_labels = valid_all_labels[i]\n",
        "    pred_label = predicted_labels[i]\n",
        "    if pred_label not in true_labels:\n",
        "        misclassified_indices.append(i)\n",
        "\n",
        "print(f\"\\n잘못 분류된 샘플 수: {len(misclassified_indices)}\")\n",
        "\n",
        "# 잘못 분류된 샘플 중 일부를 출력\n",
        "num_samples_to_show = 5  # 표시할 샘플 수\n",
        "\n",
        "for idx in misclassified_indices[:num_samples_to_show]:\n",
        "    print(f\"\\n샘플 인덱스: {idx}\")\n",
        "    print(f\"텍스트: {test_df.iloc[idx]['text']}\")\n",
        "    true_labels = [class_names[label] for label in valid_all_labels[idx]]\n",
        "    pred_label = class_names[predicted_labels[idx]]\n",
        "    print(f\"실제 라벨들: {true_labels}\")\n",
        "    print(f\"예측 라벨: {pred_label}\")\n",
        "\n",
        "# 6. 혼동 행렬 및 분류 보고서 (선택 사항)\n",
        "\n",
        "# 실제 라벨을 단일 라벨로 설정해야 혼동 행렬을 그릴 수 있습니다.\n",
        "# 여기서는 첫 번째 라벨러의 라벨을 사용합니다.\n",
        "\n",
        "first_annotator_labels = [labels[0] for labels in valid_all_labels]\n",
        "mapped_true_labels = first_annotator_labels  # 이미 숫자 라벨임\n",
        "\n",
        "# 분류 보고서 출력\n",
        "print(\"\\n분류 보고서 (첫 번째 라벨러 기준):\")\n",
        "print(classification_report(mapped_true_labels, predicted_labels, target_names=class_names))\n",
        "\n",
        "# 혼동 행렬 계산 및 시각화\n",
        "cm = confusion_matrix(mapped_true_labels, predicted_labels)\n",
        "\n",
        "plt.figure(figsize=(8, 6))\n",
        "sns.heatmap(cm, annot=True, fmt='d', cmap='Blues', xticklabels=class_names, yticklabels=class_names)\n",
        "plt.xlabel('예측 라벨')\n",
        "plt.ylabel('실제 라벨')\n",
        "plt.title('혼동 행렬 (첫 번째 라벨러 기준)')\n",
        "plt.show()\n"
      ],
      "metadata": {
        "id": "9l7cUjumu88S",
        "outputId": "91cd4b8a-f117-4409-deea-b6ed6fb92479",
        "colab": {
          "base_uri": "https://localhost:8080/",
          "height": 1000
        }
      },
      "execution_count": 69,
      "outputs": [
        {
          "output_type": "stream",
          "name": "stderr",
          "text": [
            "Processing: 100%|██████████| 1673/1673 [00:15<00:00, 108.33it/s]\n",
            "/usr/local/lib/python3.10/dist-packages/IPython/core/pylabtools.py:151: UserWarning: Glyph 49892 (\\N{HANGUL SYLLABLE SIL}) missing from current font.\n",
            "  fig.canvas.print_figure(bytes_io, **kw)\n",
            "/usr/local/lib/python3.10/dist-packages/IPython/core/pylabtools.py:151: UserWarning: Glyph 51228 (\\N{HANGUL SYLLABLE JE}) missing from current font.\n",
            "  fig.canvas.print_figure(bytes_io, **kw)\n",
            "/usr/local/lib/python3.10/dist-packages/IPython/core/pylabtools.py:151: UserWarning: Glyph 46972 (\\N{HANGUL SYLLABLE RA}) missing from current font.\n",
            "  fig.canvas.print_figure(bytes_io, **kw)\n",
            "/usr/local/lib/python3.10/dist-packages/IPython/core/pylabtools.py:151: UserWarning: Glyph 48296 (\\N{HANGUL SYLLABLE BEL}) missing from current font.\n",
            "  fig.canvas.print_figure(bytes_io, **kw)\n",
            "/usr/local/lib/python3.10/dist-packages/IPython/core/pylabtools.py:151: UserWarning: Glyph 54844 (\\N{HANGUL SYLLABLE HON}) missing from current font.\n",
            "  fig.canvas.print_figure(bytes_io, **kw)\n",
            "/usr/local/lib/python3.10/dist-packages/IPython/core/pylabtools.py:151: UserWarning: Glyph 46041 (\\N{HANGUL SYLLABLE DONG}) missing from current font.\n",
            "  fig.canvas.print_figure(bytes_io, **kw)\n",
            "/usr/local/lib/python3.10/dist-packages/IPython/core/pylabtools.py:151: UserWarning: Glyph 54665 (\\N{HANGUL SYLLABLE HAENG}) missing from current font.\n",
            "  fig.canvas.print_figure(bytes_io, **kw)\n",
            "/usr/local/lib/python3.10/dist-packages/IPython/core/pylabtools.py:151: UserWarning: Glyph 47148 (\\N{HANGUL SYLLABLE RYEOL}) missing from current font.\n",
            "  fig.canvas.print_figure(bytes_io, **kw)\n",
            "/usr/local/lib/python3.10/dist-packages/IPython/core/pylabtools.py:151: UserWarning: Glyph 52395 (\\N{HANGUL SYLLABLE CEOS}) missing from current font.\n",
            "  fig.canvas.print_figure(bytes_io, **kw)\n",
            "/usr/local/lib/python3.10/dist-packages/IPython/core/pylabtools.py:151: UserWarning: Glyph 48264 (\\N{HANGUL SYLLABLE BEON}) missing from current font.\n",
            "  fig.canvas.print_figure(bytes_io, **kw)\n",
            "/usr/local/lib/python3.10/dist-packages/IPython/core/pylabtools.py:151: UserWarning: Glyph 51704 (\\N{HANGUL SYLLABLE JJAE}) missing from current font.\n",
            "  fig.canvas.print_figure(bytes_io, **kw)\n",
            "/usr/local/lib/python3.10/dist-packages/IPython/core/pylabtools.py:151: UserWarning: Glyph 47084 (\\N{HANGUL SYLLABLE REO}) missing from current font.\n",
            "  fig.canvas.print_figure(bytes_io, **kw)\n",
            "/usr/local/lib/python3.10/dist-packages/IPython/core/pylabtools.py:151: UserWarning: Glyph 44592 (\\N{HANGUL SYLLABLE GI}) missing from current font.\n",
            "  fig.canvas.print_figure(bytes_io, **kw)\n",
            "/usr/local/lib/python3.10/dist-packages/IPython/core/pylabtools.py:151: UserWarning: Glyph 51456 (\\N{HANGUL SYLLABLE JUN}) missing from current font.\n",
            "  fig.canvas.print_figure(bytes_io, **kw)\n",
            "/usr/local/lib/python3.10/dist-packages/IPython/core/pylabtools.py:151: UserWarning: Glyph 50696 (\\N{HANGUL SYLLABLE YE}) missing from current font.\n",
            "  fig.canvas.print_figure(bytes_io, **kw)\n",
            "/usr/local/lib/python3.10/dist-packages/IPython/core/pylabtools.py:151: UserWarning: Glyph 52769 (\\N{HANGUL SYLLABLE CEUG}) missing from current font.\n",
            "  fig.canvas.print_figure(bytes_io, **kw)\n"
          ]
        },
        {
          "output_type": "stream",
          "name": "stdout",
          "text": [
            "\n",
            "모델의 정확도 (하나라도 일치): 75.07%\n",
            "\n",
            "잘못 분류된 샘플 수: 417\n",
            "\n",
            "샘플 인덱스: 0\n",
            "텍스트: Here's @user shaking hands with @user at today's #HamOnt rally\n",
            "실제 라벨들: ['Neutral', 'Negative', 'Neutral']\n",
            "예측 라벨: Positive\n",
            "\n",
            "샘플 인덱스: 8\n",
            "텍스트: Good morning, St. John's, NL. #Canada http\n",
            "실제 라벨들: ['Neutral', 'Neutral', 'Neutral']\n",
            "예측 라벨: Positive\n",
            "\n",
            "샘플 인덱스: 10\n",
            "텍스트: #love how this piece looks above this #red bench. Super fun &amp; happy clients?? in #yeg\n",
            "실제 라벨들: ['Neutral', 'Neutral', 'Neutral']\n",
            "예측 라벨: Positive\n",
            "\n",
            "샘플 인덱스: 18\n",
            "텍스트: It's a big series between #BlueJays and #Rangers, so @user and @user break it all down:http://t.co/IJGxgVQpzF\n",
            "실제 라벨들: ['Positive', 'Positive', 'Positive']\n",
            "예측 라벨: Neutral\n",
            "\n",
            "샘플 인덱스: 23\n",
            "텍스트: #LastChance for $25 #EarlyBird #Oktoberfest #Tickets- Just like #Toronto Gas, Prices are Going Up at #Midnight! #RT\n",
            "실제 라벨들: ['Positive', 'Positive', 'Positive']\n",
            "예측 라벨: Neutral\n",
            "\n",
            "분류 보고서 (첫 번째 라벨러 기준):\n",
            "              precision    recall  f1-score   support\n",
            "\n",
            "    Negative       0.08      0.06      0.07       156\n",
            "     Neutral       0.43      0.31      0.36       695\n",
            "    Positive       0.50      0.65      0.57       822\n",
            "\n",
            "    accuracy                           0.45      1673\n",
            "   macro avg       0.34      0.34      0.33      1673\n",
            "weighted avg       0.43      0.45      0.44      1673\n",
            "\n"
          ]
        },
        {
          "output_type": "display_data",
          "data": {
            "text/plain": [
              "<Figure size 800x600 with 2 Axes>"
            ],
            "image/png": "[encoded data removed]"
          },
          "metadata": {}
        }
      ]
    },
    {
      "cell_type": "code",
      "source": [
        "model.save_pretrained('fine_tuned_model')\n",
        "tokenizer.save_pretrained('fine_tuned_model')\n"
      ],
      "metadata": {
        "id": "EXARHLlls7d6",
        "outputId": "bb785fd4-7a33-4c6f-97f4-a8547f83b14a",
        "colab": {
          "base_uri": "https://localhost:8080/"
        }
      },
      "execution_count": 62,
      "outputs": [
        {
          "output_type": "execute_result",
          "data": {
            "text/plain": [
              "('fine_tuned_model/tokenizer_config.json',\n",
              " 'fine_tuned_model/special_tokens_map.json',\n",
              " 'fine_tuned_model/vocab.json',\n",
              " 'fine_tuned_model/merges.txt',\n",
              " 'fine_tuned_model/added_tokens.json',\n",
              " 'fine_tuned_model/tokenizer.json')"
            ]
          },
          "metadata": {},
          "execution_count": 62
        }
      ]
    },
    {
      "cell_type": "code",
      "source": [
        "# Google Drive 마운트\n",
        "from google.colab import drive\n",
        "drive.mount('/content/drive')\n",
        "\n",
        "# 모델을 Google Drive로 복사\n",
        "!cp -r 'fine_tuned_model' '/content/drive/MyDrive/'\n",
        "\n",
        "# 저장된 위치 확인\n",
        "print(os.listdir('/content/drive/MyDrive/fine_tuned_model'))\n"
      ],
      "metadata": {
        "id": "TzAV_aw0tQa3",
        "outputId": "1be84c19-eecf-43d4-be6e-376441d48d57",
        "colab": {
          "base_uri": "https://localhost:8080/"
        }
      },
      "execution_count": 63,
      "outputs": [
        {
          "output_type": "stream",
          "name": "stdout",
          "text": [
            "Drive already mounted at /content/drive; to attempt to forcibly remount, call drive.mount(\"/content/drive\", force_remount=True).\n",
            "['config.json', 'model.safetensors', 'tokenizer_config.json', 'special_tokens_map.json', 'vocab.json', 'merges.txt', 'tokenizer.json']\n"
          ]
        }
      ]
    },
    {
      "cell_type": "markdown",
      "source": [
        "## 저장했던 모델 불러오기"
      ],
      "metadata": {
        "id": "Ifdt2c7WtVNM"
      }
    },
    {
      "cell_type": "code",
      "source": [
        "model_path = '/content/drive/MyDrive/fine_tuned_model'\n",
        "\n",
        "# 토크나이저와 모델 로드\n",
        "tokenizer = AutoTokenizer.from_pretrained(model_path)\n",
        "model = AutoModelForSequenceClassification.from_pretrained(model_path)\n"
      ],
      "metadata": {
        "id": "vCbhu-QOtQ2v"
      },
      "execution_count": null,
      "outputs": []
    }
  ]
}